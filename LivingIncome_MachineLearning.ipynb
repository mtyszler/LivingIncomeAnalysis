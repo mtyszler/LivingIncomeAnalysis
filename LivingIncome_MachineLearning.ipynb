{
 "cells": [
  {
   "cell_type": "markdown",
   "metadata": {},
   "source": [
    "# 0 Preamble"
   ]
  },
  {
   "cell_type": "markdown",
   "metadata": {},
   "source": [
    "## 0.1 Load libraries"
   ]
  },
  {
   "cell_type": "code",
   "execution_count": 1,
   "metadata": {},
   "outputs": [],
   "source": [
    "import pandas as pd\n",
    "import numpy as np\n",
    "import matplotlib.pyplot as plt\n",
    "\n",
    "import pickle\n",
    "from time import time\n",
    "\n",
    "from sklearn.linear_model import LogisticRegression\n",
    "from sklearn.ensemble import AdaBoostClassifier\n",
    "from sklearn.neighbors import KNeighborsClassifier\n",
    "\n",
    "from sklearn.metrics import accuracy_score\n",
    "from sklearn.metrics import fbeta_score\n",
    "from sklearn.metrics import make_scorer\n",
    "from sklearn.metrics import precision_recall_fscore_support\n",
    "\n",
    "from sklearn.metrics import plot_confusion_matrix\n",
    "from sklearn.metrics import confusion_matrix\n",
    "from sklearn.metrics import ConfusionMatrixDisplay\n",
    "\n",
    "from sklearn.model_selection import train_test_split\n",
    "from sklearn.model_selection import StratifiedShuffleSplit\n",
    "from sklearn.model_selection import GridSearchCV\n",
    "\n",
    "from tpot import TPOTClassifier\n",
    "\n",
    "import visuals as vs"
   ]
  },
  {
   "cell_type": "markdown",
   "metadata": {},
   "source": [
    "# 1 Get data ready"
   ]
  },
  {
   "cell_type": "markdown",
   "metadata": {},
   "source": [
    "## 1.1 Load data"
   ]
  },
  {
   "cell_type": "markdown",
   "metadata": {},
   "source": [
    "I'll start by loading the data prepared by the [Living Income Analysis notebook](LivingIncomeAnalysis.ipynb)"
   ]
  },
  {
   "cell_type": "code",
   "execution_count": 2,
   "metadata": {},
   "outputs": [],
   "source": [
    "data = pd.read_pickle('data_ready_for_ML.pkl')"
   ]
  },
  {
   "cell_type": "code",
   "execution_count": 3,
   "metadata": {},
   "outputs": [
    {
     "data": {
      "text/html": [
       "<div>\n",
       "<style scoped>\n",
       "    .dataframe tbody tr th:only-of-type {\n",
       "        vertical-align: middle;\n",
       "    }\n",
       "\n",
       "    .dataframe tbody tr th {\n",
       "        vertical-align: top;\n",
       "    }\n",
       "\n",
       "    .dataframe thead th {\n",
       "        text-align: right;\n",
       "    }\n",
       "</style>\n",
       "<table border=\"1\" class=\"dataframe\">\n",
       "  <thead>\n",
       "    <tr style=\"text-align: right;\">\n",
       "      <th></th>\n",
       "      <th>Number of household members living in the compound</th>\n",
       "      <th>Number of males over 65 years old</th>\n",
       "      <th>Number of females over 65 years old</th>\n",
       "      <th>Number of males 15-65</th>\n",
       "      <th>Number of females between 15 and 65 years old</th>\n",
       "      <th>Number of boys between 15 and 65 years old</th>\n",
       "      <th>Number of girls  between 5 and 14 years old</th>\n",
       "      <th>Number of boys younger than 4 years old</th>\n",
       "      <th>Number of girls younger than 4 years old</th>\n",
       "      <th>Dependency ratio</th>\n",
       "      <th>...</th>\n",
       "      <th>3 meals/day: march</th>\n",
       "      <th>3 meals/day: april</th>\n",
       "      <th>3 meals/day: may</th>\n",
       "      <th>3 meals/day: june</th>\n",
       "      <th>3 meals/day: july</th>\n",
       "      <th>3 meals/day: august</th>\n",
       "      <th>3 meals/day: september</th>\n",
       "      <th>3 meals/day: october</th>\n",
       "      <th>3 meals/day: november</th>\n",
       "      <th>3 meals/day: december</th>\n",
       "    </tr>\n",
       "  </thead>\n",
       "  <tbody>\n",
       "    <tr>\n",
       "      <th>count</th>\n",
       "      <td>1365.000000</td>\n",
       "      <td>1365.000000</td>\n",
       "      <td>1365.000000</td>\n",
       "      <td>1365.000000</td>\n",
       "      <td>1365.000000</td>\n",
       "      <td>1365.000000</td>\n",
       "      <td>1365.000000</td>\n",
       "      <td>1365.000000</td>\n",
       "      <td>1365.000000</td>\n",
       "      <td>1349.000000</td>\n",
       "      <td>...</td>\n",
       "      <td>1377.000000</td>\n",
       "      <td>1377.000000</td>\n",
       "      <td>1377.000000</td>\n",
       "      <td>1377.000000</td>\n",
       "      <td>1377.000000</td>\n",
       "      <td>1377.000000</td>\n",
       "      <td>1377.000000</td>\n",
       "      <td>1377.000000</td>\n",
       "      <td>1377.000000</td>\n",
       "      <td>1377.000000</td>\n",
       "    </tr>\n",
       "    <tr>\n",
       "      <th>mean</th>\n",
       "      <td>6.190476</td>\n",
       "      <td>0.133333</td>\n",
       "      <td>0.109158</td>\n",
       "      <td>1.734799</td>\n",
       "      <td>1.688645</td>\n",
       "      <td>0.979487</td>\n",
       "      <td>0.848352</td>\n",
       "      <td>0.354579</td>\n",
       "      <td>0.342125</td>\n",
       "      <td>1.011092</td>\n",
       "      <td>...</td>\n",
       "      <td>0.683370</td>\n",
       "      <td>0.674655</td>\n",
       "      <td>0.672476</td>\n",
       "      <td>0.662309</td>\n",
       "      <td>0.657952</td>\n",
       "      <td>0.661583</td>\n",
       "      <td>0.697168</td>\n",
       "      <td>0.708061</td>\n",
       "      <td>0.712418</td>\n",
       "      <td>0.724038</td>\n",
       "    </tr>\n",
       "    <tr>\n",
       "      <th>std</th>\n",
       "      <td>3.002501</td>\n",
       "      <td>0.369010</td>\n",
       "      <td>0.351719</td>\n",
       "      <td>1.221747</td>\n",
       "      <td>1.148336</td>\n",
       "      <td>1.096323</td>\n",
       "      <td>1.055501</td>\n",
       "      <td>0.671139</td>\n",
       "      <td>0.656139</td>\n",
       "      <td>1.011952</td>\n",
       "      <td>...</td>\n",
       "      <td>0.465331</td>\n",
       "      <td>0.468674</td>\n",
       "      <td>0.469481</td>\n",
       "      <td>0.473094</td>\n",
       "      <td>0.474568</td>\n",
       "      <td>0.473343</td>\n",
       "      <td>0.459650</td>\n",
       "      <td>0.454820</td>\n",
       "      <td>0.452799</td>\n",
       "      <td>0.447160</td>\n",
       "    </tr>\n",
       "    <tr>\n",
       "      <th>min</th>\n",
       "      <td>1.000000</td>\n",
       "      <td>0.000000</td>\n",
       "      <td>0.000000</td>\n",
       "      <td>0.000000</td>\n",
       "      <td>0.000000</td>\n",
       "      <td>0.000000</td>\n",
       "      <td>0.000000</td>\n",
       "      <td>0.000000</td>\n",
       "      <td>0.000000</td>\n",
       "      <td>0.000000</td>\n",
       "      <td>...</td>\n",
       "      <td>0.000000</td>\n",
       "      <td>0.000000</td>\n",
       "      <td>0.000000</td>\n",
       "      <td>0.000000</td>\n",
       "      <td>0.000000</td>\n",
       "      <td>0.000000</td>\n",
       "      <td>0.000000</td>\n",
       "      <td>0.000000</td>\n",
       "      <td>0.000000</td>\n",
       "      <td>0.000000</td>\n",
       "    </tr>\n",
       "    <tr>\n",
       "      <th>25%</th>\n",
       "      <td>4.000000</td>\n",
       "      <td>0.000000</td>\n",
       "      <td>0.000000</td>\n",
       "      <td>1.000000</td>\n",
       "      <td>1.000000</td>\n",
       "      <td>0.000000</td>\n",
       "      <td>0.000000</td>\n",
       "      <td>0.000000</td>\n",
       "      <td>0.000000</td>\n",
       "      <td>0.333333</td>\n",
       "      <td>...</td>\n",
       "      <td>0.000000</td>\n",
       "      <td>0.000000</td>\n",
       "      <td>0.000000</td>\n",
       "      <td>0.000000</td>\n",
       "      <td>0.000000</td>\n",
       "      <td>0.000000</td>\n",
       "      <td>0.000000</td>\n",
       "      <td>0.000000</td>\n",
       "      <td>0.000000</td>\n",
       "      <td>0.000000</td>\n",
       "    </tr>\n",
       "    <tr>\n",
       "      <th>50%</th>\n",
       "      <td>6.000000</td>\n",
       "      <td>0.000000</td>\n",
       "      <td>0.000000</td>\n",
       "      <td>1.000000</td>\n",
       "      <td>1.000000</td>\n",
       "      <td>1.000000</td>\n",
       "      <td>1.000000</td>\n",
       "      <td>0.000000</td>\n",
       "      <td>0.000000</td>\n",
       "      <td>0.750000</td>\n",
       "      <td>...</td>\n",
       "      <td>1.000000</td>\n",
       "      <td>1.000000</td>\n",
       "      <td>1.000000</td>\n",
       "      <td>1.000000</td>\n",
       "      <td>1.000000</td>\n",
       "      <td>1.000000</td>\n",
       "      <td>1.000000</td>\n",
       "      <td>1.000000</td>\n",
       "      <td>1.000000</td>\n",
       "      <td>1.000000</td>\n",
       "    </tr>\n",
       "    <tr>\n",
       "      <th>75%</th>\n",
       "      <td>8.000000</td>\n",
       "      <td>0.000000</td>\n",
       "      <td>0.000000</td>\n",
       "      <td>2.000000</td>\n",
       "      <td>2.000000</td>\n",
       "      <td>2.000000</td>\n",
       "      <td>1.000000</td>\n",
       "      <td>1.000000</td>\n",
       "      <td>1.000000</td>\n",
       "      <td>1.500000</td>\n",
       "      <td>...</td>\n",
       "      <td>1.000000</td>\n",
       "      <td>1.000000</td>\n",
       "      <td>1.000000</td>\n",
       "      <td>1.000000</td>\n",
       "      <td>1.000000</td>\n",
       "      <td>1.000000</td>\n",
       "      <td>1.000000</td>\n",
       "      <td>1.000000</td>\n",
       "      <td>1.000000</td>\n",
       "      <td>1.000000</td>\n",
       "    </tr>\n",
       "    <tr>\n",
       "      <th>max</th>\n",
       "      <td>21.000000</td>\n",
       "      <td>5.000000</td>\n",
       "      <td>5.000000</td>\n",
       "      <td>8.000000</td>\n",
       "      <td>9.000000</td>\n",
       "      <td>6.000000</td>\n",
       "      <td>6.000000</td>\n",
       "      <td>5.000000</td>\n",
       "      <td>5.000000</td>\n",
       "      <td>13.000000</td>\n",
       "      <td>...</td>\n",
       "      <td>1.000000</td>\n",
       "      <td>1.000000</td>\n",
       "      <td>1.000000</td>\n",
       "      <td>1.000000</td>\n",
       "      <td>1.000000</td>\n",
       "      <td>1.000000</td>\n",
       "      <td>1.000000</td>\n",
       "      <td>1.000000</td>\n",
       "      <td>1.000000</td>\n",
       "      <td>1.000000</td>\n",
       "    </tr>\n",
       "  </tbody>\n",
       "</table>\n",
       "<p>8 rows × 566 columns</p>\n",
       "</div>"
      ],
      "text/plain": [
       "       Number of household members living in the compound  \\\n",
       "count                                        1365.000000    \n",
       "mean                                            6.190476    \n",
       "std                                             3.002501    \n",
       "min                                             1.000000    \n",
       "25%                                             4.000000    \n",
       "50%                                             6.000000    \n",
       "75%                                             8.000000    \n",
       "max                                            21.000000    \n",
       "\n",
       "       Number of males over 65 years old  Number of females over 65 years old  \\\n",
       "count                        1365.000000                          1365.000000   \n",
       "mean                            0.133333                             0.109158   \n",
       "std                             0.369010                             0.351719   \n",
       "min                             0.000000                             0.000000   \n",
       "25%                             0.000000                             0.000000   \n",
       "50%                             0.000000                             0.000000   \n",
       "75%                             0.000000                             0.000000   \n",
       "max                             5.000000                             5.000000   \n",
       "\n",
       "       Number of males 15-65  Number of females between 15 and 65 years old  \\\n",
       "count            1365.000000                                    1365.000000   \n",
       "mean                1.734799                                       1.688645   \n",
       "std                 1.221747                                       1.148336   \n",
       "min                 0.000000                                       0.000000   \n",
       "25%                 1.000000                                       1.000000   \n",
       "50%                 1.000000                                       1.000000   \n",
       "75%                 2.000000                                       2.000000   \n",
       "max                 8.000000                                       9.000000   \n",
       "\n",
       "       Number of boys between 15 and 65 years old  \\\n",
       "count                                 1365.000000   \n",
       "mean                                     0.979487   \n",
       "std                                      1.096323   \n",
       "min                                      0.000000   \n",
       "25%                                      0.000000   \n",
       "50%                                      1.000000   \n",
       "75%                                      2.000000   \n",
       "max                                      6.000000   \n",
       "\n",
       "       Number of girls  between 5 and 14 years old  \\\n",
       "count                                  1365.000000   \n",
       "mean                                      0.848352   \n",
       "std                                       1.055501   \n",
       "min                                       0.000000   \n",
       "25%                                       0.000000   \n",
       "50%                                       1.000000   \n",
       "75%                                       1.000000   \n",
       "max                                       6.000000   \n",
       "\n",
       "       Number of boys younger than 4 years old  \\\n",
       "count                              1365.000000   \n",
       "mean                                  0.354579   \n",
       "std                                   0.671139   \n",
       "min                                   0.000000   \n",
       "25%                                   0.000000   \n",
       "50%                                   0.000000   \n",
       "75%                                   1.000000   \n",
       "max                                   5.000000   \n",
       "\n",
       "       Number of girls younger than 4 years old  Dependency ratio  ...  \\\n",
       "count                               1365.000000       1349.000000  ...   \n",
       "mean                                   0.342125          1.011092  ...   \n",
       "std                                    0.656139          1.011952  ...   \n",
       "min                                    0.000000          0.000000  ...   \n",
       "25%                                    0.000000          0.333333  ...   \n",
       "50%                                    0.000000          0.750000  ...   \n",
       "75%                                    1.000000          1.500000  ...   \n",
       "max                                    5.000000         13.000000  ...   \n",
       "\n",
       "       3 meals/day: march  3 meals/day: april  3 meals/day: may  \\\n",
       "count         1377.000000         1377.000000       1377.000000   \n",
       "mean             0.683370            0.674655          0.672476   \n",
       "std              0.465331            0.468674          0.469481   \n",
       "min              0.000000            0.000000          0.000000   \n",
       "25%              0.000000            0.000000          0.000000   \n",
       "50%              1.000000            1.000000          1.000000   \n",
       "75%              1.000000            1.000000          1.000000   \n",
       "max              1.000000            1.000000          1.000000   \n",
       "\n",
       "       3 meals/day: june  3 meals/day: july  3 meals/day: august  \\\n",
       "count        1377.000000        1377.000000          1377.000000   \n",
       "mean            0.662309           0.657952             0.661583   \n",
       "std             0.473094           0.474568             0.473343   \n",
       "min             0.000000           0.000000             0.000000   \n",
       "25%             0.000000           0.000000             0.000000   \n",
       "50%             1.000000           1.000000             1.000000   \n",
       "75%             1.000000           1.000000             1.000000   \n",
       "max             1.000000           1.000000             1.000000   \n",
       "\n",
       "       3 meals/day: september  3 meals/day: october  3 meals/day: november  \\\n",
       "count             1377.000000           1377.000000            1377.000000   \n",
       "mean                 0.697168              0.708061               0.712418   \n",
       "std                  0.459650              0.454820               0.452799   \n",
       "min                  0.000000              0.000000               0.000000   \n",
       "25%                  0.000000              0.000000               0.000000   \n",
       "50%                  1.000000              1.000000               1.000000   \n",
       "75%                  1.000000              1.000000               1.000000   \n",
       "max                  1.000000              1.000000               1.000000   \n",
       "\n",
       "       3 meals/day: december  \n",
       "count            1377.000000  \n",
       "mean                0.724038  \n",
       "std                 0.447160  \n",
       "min                 0.000000  \n",
       "25%                 0.000000  \n",
       "50%                 1.000000  \n",
       "75%                 1.000000  \n",
       "max                 1.000000  \n",
       "\n",
       "[8 rows x 566 columns]"
      ]
     },
     "execution_count": 3,
     "metadata": {},
     "output_type": "execute_result"
    }
   ],
   "source": [
    "data.describe()"
   ]
  },
  {
   "cell_type": "markdown",
   "metadata": {},
   "source": [
    "## 1.2 Fill in missing values"
   ]
  },
  {
   "cell_type": "markdown",
   "metadata": {},
   "source": [
    "Since there are still a few missing values, I will fill these using the following strategy:\n",
    "\n",
    "* For categorical variables, the mode\n",
    "* For numerical variable, the median"
   ]
  },
  {
   "cell_type": "code",
   "execution_count": 4,
   "metadata": {},
   "outputs": [],
   "source": [
    "# iterate through all features\n",
    "for this_column in list(data.columns):\n",
    "\n",
    "    # check if categorical\n",
    "    if (str(data[this_column].dtype) == 'category') | (str(data[this_column].dtype) == 'object') :\n",
    "        fill_value = data[this_column].mode()\n",
    "\n",
    "    else:\n",
    "        fill_value = data[this_column].median()\n",
    "     \n",
    "    # fill missing values\n",
    "    data[this_column] = data[this_column].fillna(value = fill_value)"
   ]
  },
  {
   "cell_type": "markdown",
   "metadata": {},
   "source": [
    "## 1.3 Split the target and features"
   ]
  },
  {
   "cell_type": "markdown",
   "metadata": {},
   "source": [
    "I'll separate the target feature from the explanatory features"
   ]
  },
  {
   "cell_type": "code",
   "execution_count": 5,
   "metadata": {},
   "outputs": [],
   "source": [
    "target = data['Living Income Achieved']\n",
    "data.drop(['Living Income Achieved'], axis = 1, inplace = True)"
   ]
  },
  {
   "cell_type": "markdown",
   "metadata": {},
   "source": [
    "## 1.4 one-hot encode"
   ]
  },
  {
   "cell_type": "markdown",
   "metadata": {},
   "source": [
    "Now I turn the categorical feature in individual dummies"
   ]
  },
  {
   "cell_type": "markdown",
   "metadata": {},
   "source": [
    "Let's first check the shape to see how many dummies will be created"
   ]
  },
  {
   "cell_type": "code",
   "execution_count": 6,
   "metadata": {},
   "outputs": [
    {
     "data": {
      "text/plain": [
       "(1377, 608)"
      ]
     },
     "execution_count": 6,
     "metadata": {},
     "output_type": "execute_result"
    }
   ],
   "source": [
    "data.shape"
   ]
  },
  {
   "cell_type": "code",
   "execution_count": 7,
   "metadata": {},
   "outputs": [],
   "source": [
    "data = pd.get_dummies(data)"
   ]
  },
  {
   "cell_type": "markdown",
   "metadata": {},
   "source": [
    "Now I can compare"
   ]
  },
  {
   "cell_type": "code",
   "execution_count": 8,
   "metadata": {},
   "outputs": [
    {
     "data": {
      "text/plain": [
       "(1377, 838)"
      ]
     },
     "execution_count": 8,
     "metadata": {},
     "output_type": "execute_result"
    }
   ],
   "source": [
    "data.shape"
   ]
  },
  {
   "cell_type": "markdown",
   "metadata": {},
   "source": [
    "Let's investigate it more closely"
   ]
  },
  {
   "cell_type": "code",
   "execution_count": 9,
   "metadata": {},
   "outputs": [
    {
     "data": {
      "text/plain": [
       "['Number of household members living in the compound',\n",
       " 'Number of males over 65 years old',\n",
       " 'Number of females over 65 years old',\n",
       " 'Number of males 15-65',\n",
       " 'Number of females between 15 and 65 years old',\n",
       " 'Number of boys between 15 and 65 years old',\n",
       " 'Number of girls  between 5 and 14 years old',\n",
       " 'Number of boys younger than 4 years old',\n",
       " 'Number of girls younger than 4 years old',\n",
       " 'Dependency ratio',\n",
       " 'Head: age',\n",
       " 'Female head',\n",
       " 'All household boys ages 5 to 14 currently attending school',\n",
       " 'All household girls ages 5 to 14 currently attending school',\n",
       " 'Estimated income percentage from sale of cocoa',\n",
       " 'Estimated income percentage from sale of other crops',\n",
       " 'Estimated income percentage from sale of livestock or livestock products',\n",
       " 'Estimated income percentage from sale of fish',\n",
       " 'Estimated income percentage from sale of bush products (bush meat, charcoal, woo',\n",
       " 'Estimated income percentage from labouring for other people on their farms',\n",
       " 'Estimated income percentage from ;abouring for other people non-agriculture',\n",
       " 'Estimated income percentage from own small business or trading',\n",
       " 'Estimated income percentage from salary employment with a company',\n",
       " 'Estimated income percentage from salary employment in government job (teacher, n',\n",
       " 'Estimated income percentage from sale or lease of land',\n",
       " 'Estimated income percentage from remittances from friends and family living away',\n",
       " 'Estimated income percentage from other',\n",
       " 'Produced avocado last season',\n",
       " 'Produced bananas last season',\n",
       " 'Produced soya beans last season',\n",
       " 'Produced beans last season',\n",
       " 'Produced cabbages last season',\n",
       " 'Produced carrots last season',\n",
       " 'Produced cashews last season',\n",
       " 'Produced cassava last season',\n",
       " 'Produced chili last season',\n",
       " 'Produced cocoa last season',\n",
       " 'Produced coconut last season',\n",
       " 'Produced cocoyam last season',\n",
       " 'Produced coffee last season',\n",
       " 'Produced courgette last season',\n",
       " 'Produced cotton last season',\n",
       " 'Produced cow pea last season',\n",
       " 'Produced eggplant last season',\n",
       " 'Produced fodder last season',\n",
       " 'Produced garlic last season',\n",
       " 'Produced ginger last season',\n",
       " 'Produced groundnuts last season',\n",
       " 'Produced lemon last season',\n",
       " 'Produced lime last season',\n",
       " 'Produced maize last season',\n",
       " 'Produced mango last season',\n",
       " 'Produced millet last season',\n",
       " 'Produced okra last season',\n",
       " 'Produced onions last season',\n",
       " 'Produced oranges last season',\n",
       " 'Produced palm last season',\n",
       " 'Produced papaya last season',\n",
       " 'Produced peas last season',\n",
       " 'Produced peppers last season',\n",
       " 'Produced pineapple last season',\n",
       " 'Produced plantain last season',\n",
       " 'Produced irish potato last season',\n",
       " 'Produced sweet potato last season',\n",
       " 'Produced rice last season',\n",
       " 'Produced rubber last season',\n",
       " 'Produced spinach last season',\n",
       " 'Produced sorghum last season',\n",
       " 'Produced shea nut last season',\n",
       " 'Produced sugar cane last season',\n",
       " 'Produced tangerine last season',\n",
       " 'Produced tomatoes last season',\n",
       " 'Produced watermelon last season',\n",
       " 'Produced yam last season',\n",
       " 'Produced other last season',\n",
       " 'Produced none/ not applicable last season',\n",
       " 'Number of crops produced',\n",
       " 'Sold avocado last season',\n",
       " 'Sold bananas last season',\n",
       " 'Sold soya beans last season',\n",
       " 'Sold beans last season',\n",
       " 'Sold cabbages last season',\n",
       " 'Sold carrots last season',\n",
       " 'Sold cashews last season',\n",
       " 'Sold cassava last season',\n",
       " 'Sold chili last season',\n",
       " 'Sold cocoa last season',\n",
       " 'Sold coconut last season',\n",
       " 'Sold cocoyam last season',\n",
       " 'Sold coffee last season',\n",
       " 'Sold courgette last season',\n",
       " 'Sold cotton last season',\n",
       " 'Sold cow pea last season',\n",
       " 'Sold eggplant last season',\n",
       " 'Sold fodder last season',\n",
       " 'Sold garlic last season',\n",
       " 'Sold ginger last season',\n",
       " 'Sold groundnuts last season',\n",
       " 'Sold lemon last season',\n",
       " 'Sold lime last season',\n",
       " 'Sold maize last season',\n",
       " 'Sold mango last season',\n",
       " 'Sold millet last season',\n",
       " 'Sold okra last season',\n",
       " 'Sold onions last season',\n",
       " 'Sold oranges last season',\n",
       " 'Sold palm last season',\n",
       " 'Sold papaya last season',\n",
       " 'Sold peas last season',\n",
       " 'Sold peppers last season',\n",
       " 'Sold pineapple last season',\n",
       " 'Sold plantain last season',\n",
       " 'Sold irish potato last season',\n",
       " 'Sold sweet potato last season',\n",
       " 'Sold rice last season',\n",
       " 'Sold rubber last season',\n",
       " 'Sold spinach last season',\n",
       " 'Sold sorghum last season',\n",
       " 'Sold shea nut last season',\n",
       " 'Sold sugar cane last season',\n",
       " 'Sold tangerine last season',\n",
       " 'Sold tomatoes last season',\n",
       " 'Sold watermelon last season',\n",
       " 'Sold yam last season',\n",
       " 'Sold other last season',\n",
       " 'Sold none/ not applicable last season',\n",
       " 'Sold number of crops sold last season',\n",
       " 'Land used to cultivate all crops (ha)',\n",
       " 'All land owned (ha)',\n",
       " 'All land leased (ha)',\n",
       " 'All land under abunu sharecropping arrangement (ha)',\n",
       " 'All land under abusa sharecropping arrangement (ha)',\n",
       " 'All fallow land or land left for grazing (ha)',\n",
       " 'Total number of plots',\n",
       " 'Land leased out',\n",
       " 'Land leased out (ha)',\n",
       " 'Land under cocoa (ha)',\n",
       " 'Productive land under cocoa (ha)',\n",
       " 'Cocoa land owned (ha)',\n",
       " 'Cocoa land leased (ha) ',\n",
       " 'Cocoa land under abunu sharecropping arrangement (ha)',\n",
       " 'Cocoa land under abusa sharecropping arrangement (ha)',\n",
       " 'Number of cocoa plots',\n",
       " 'Hectares with trees 5 years or younger',\n",
       " 'Hectares with trees between 5 and 25 years old',\n",
       " 'Hectares with trees older than 25 years old',\n",
       " 'Cocoa is intercropped',\n",
       " 'Cocoa was intercropped with avocado',\n",
       " 'Cocoa was intercropped with bananas',\n",
       " 'Cocoa was intercropped with soya beans',\n",
       " 'Cocoa was intercropped with beans',\n",
       " 'Cocoa was intercropped with cabbages',\n",
       " 'Cocoa was intercropped with carrots',\n",
       " 'Cocoa was intercropped with cashews',\n",
       " 'Cocoa was intercropped with cassava',\n",
       " 'Cocoa was intercropped with chili',\n",
       " 'Cocoa was intercropped with cocoa',\n",
       " 'Cocoa was intercropped with coconut',\n",
       " 'Cocoa was intercropped with cocoyam',\n",
       " 'Cocoa was intercropped with coffee',\n",
       " 'Cocoa was intercropped with courgette',\n",
       " 'Cocoa was intercropped with cotton',\n",
       " 'Cocoa was intercropped with cow pea',\n",
       " 'Cocoa was intercropped with eggplant',\n",
       " 'Cocoa was intercropped with fodder',\n",
       " 'Cocoa was intercropped with garlic',\n",
       " 'Cocoa was intercropped with ginger',\n",
       " 'Cocoa was intercropped with groundnuts',\n",
       " 'Cocoa was intercropped with lemon',\n",
       " 'Cocoa was intercropped with lime',\n",
       " 'Cocoa was intercropped with maize',\n",
       " 'Cocoa was intercropped with mango',\n",
       " 'Cocoa was intercropped with millet',\n",
       " 'Cocoa was intercropped with okra',\n",
       " 'Cocoa was intercropped with onions',\n",
       " 'Cocoa was intercropped with oranges',\n",
       " 'Cocoa was intercropped with palm',\n",
       " 'Cocoa was intercropped with papaya',\n",
       " 'Cocoa was intercropped with peas',\n",
       " 'Cocoa was intercropped with peppers',\n",
       " 'Cocoa was intercropped with pineapple',\n",
       " 'Cocoa was intercropped with plantain',\n",
       " 'Cocoa was intercropped with irish potato',\n",
       " 'Cocoa was intercropped with sweet potato',\n",
       " 'Cocoa was intercropped with rice',\n",
       " 'Cocoa was intercropped with rubber',\n",
       " 'Cocoa was intercropped with spinach',\n",
       " 'Cocoa was intercropped with sorghum',\n",
       " 'Cocoa was intercropped with shea nut',\n",
       " 'Cocoa was intercropped with sugar cane',\n",
       " 'Cocoa was intercropped with tangerine',\n",
       " 'Cocoa was intercropped with tomatoes',\n",
       " 'Cocoa was intercropped with watermelon',\n",
       " 'Cocoa was intercropped with yam',\n",
       " 'Cocoa was intercropped with other',\n",
       " 'Cocoa was intercropped with none/ not applicable',\n",
       " 'Cocoa production (kg)',\n",
       " 'Cocoa production (kg/ha)',\n",
       " 'Cocoa variety: tetteh quarshie',\n",
       " 'Cocoa variety: amazonia',\n",
       " 'Cocoa variety: hybrid',\n",
       " 'Cocoa variety: hybride (2nd generation)',\n",
       " 'Cocoa variety: other',\n",
       " 'Cocoa variety: french',\n",
       " 'Cocoa variety: tout venant',\n",
       " \"Cocoa variety: don't know\",\n",
       " 'Trees are planted in rows',\n",
       " 'Land clearing for cocoa was done last year',\n",
       " 'Land clearing done by household labour',\n",
       " 'Land clearing done by hired labour',\n",
       " 'Land clearing done by communal labour',\n",
       " 'Land clearing done by company/codapec labour',\n",
       " 'Land clearing was done by man',\n",
       " 'Land clearing was done by women',\n",
       " 'Land preparation for cocoa was done last year',\n",
       " 'Land preparation done by household labour',\n",
       " 'Land preparation done by hired labour',\n",
       " 'Land preparation done by communal labour',\n",
       " 'Land preparation done by company/codapec labour',\n",
       " 'Land preparation was done by man',\n",
       " 'Land preparation was done by women',\n",
       " 'Cocoa planting was done last year',\n",
       " 'Planting done by household labour',\n",
       " 'Planting done by hired labour',\n",
       " 'Planting done by communal labour',\n",
       " 'Planting done by company/codapec labour',\n",
       " 'Planting was done by man',\n",
       " 'Planting was done by women',\n",
       " 'Seeds source: own farm',\n",
       " 'Seeds source: neighbours / friends / relatives farms',\n",
       " 'Seeds source: farmer organisation',\n",
       " 'Seeds source: government, extension',\n",
       " 'Seeds source: purchased from agrodealer shop',\n",
       " 'Seeds source: trader',\n",
       " 'Seeds source: company / lbc',\n",
       " 'Seeds source: other',\n",
       " 'Seeds source: nestle, cargill, olam, ecom other company',\n",
       " 'Seeds source: ong',\n",
       " \"Seeds source: don't know\",\n",
       " 'Granular fertilizer was applied on cocoa land',\n",
       " 'Granular fertilizer application done by household labour',\n",
       " 'Granular fertilizer application done by hired labour',\n",
       " 'Granular fertilizer application done by communal labour',\n",
       " 'Granular fertilizer application done by company/codapec labour',\n",
       " 'Granular fertilizer application was done by man',\n",
       " 'Granular fertilizer application was done by women',\n",
       " 'Liquid fertilizer was applied on cocoa land',\n",
       " 'Liquid fertilizer application done by household labour',\n",
       " 'Liquid fertilizer application done by hired labour',\n",
       " 'Liquid fertilizer application done by communal labour',\n",
       " 'Liquid fertilizer application done by company/codapec labour',\n",
       " 'Liquid fertilizer application was done by man',\n",
       " 'Liquid fertilizer application was done by women',\n",
       " 'Manure or compost was applied on cocoa land',\n",
       " 'Manure or compost application done by household labour',\n",
       " 'Manure or compost application done by hired labour',\n",
       " 'Manure or compost application done by communal labour',\n",
       " 'Manure or compost application done by company/codapec labour',\n",
       " 'Manure or compost application was done by man',\n",
       " 'Manure or compost application was done by women',\n",
       " 'Herbicides was applied on cocoa land',\n",
       " 'Herbicide application done by household labour',\n",
       " 'Herbicide application done by hired labour',\n",
       " 'Herbicide application done by communal labour',\n",
       " 'Herbicide application done by company/codapec labour',\n",
       " 'Herbicide application was done by man',\n",
       " 'Herbicide application was done by women',\n",
       " 'Pesticides was applied on cocoa land',\n",
       " 'Pesticide application done by household labour',\n",
       " 'Pesticide application done by hired labour',\n",
       " 'Pesticide application done by communal labour',\n",
       " 'Pesticide application done by company/codapec labour',\n",
       " 'Pesticide application was done by man',\n",
       " 'Pesticide application was done by women',\n",
       " 'Fungicides was applied on cocoa land',\n",
       " 'Fungicide application done by household labour',\n",
       " 'Fungicide application done by hired labour',\n",
       " 'Fungicide application done by communal labour',\n",
       " 'Fungicide application done by company/codapec labour',\n",
       " 'Fungicide application was done by man',\n",
       " 'Fungicide application was done by women',\n",
       " 'Weeding was done on cocoa land',\n",
       " 'Weeding done by household labour',\n",
       " 'Weeding done by hired labour',\n",
       " 'Weeding done by communal labour',\n",
       " 'Weeding done by company/codapec labour',\n",
       " 'Weeding was done by man',\n",
       " 'Weeding was done by women',\n",
       " 'Pruuning was done on cocoa land',\n",
       " 'Prunning done by household labour',\n",
       " 'Prunning done by hired labour',\n",
       " 'Prunning done by communal labour',\n",
       " 'Prunning done by company/codapec labour',\n",
       " 'Prunning was done by man',\n",
       " 'Prunning was done by women',\n",
       " 'Cocoa was harvested last year',\n",
       " 'Harvesting: january',\n",
       " 'Harvesting: february',\n",
       " 'Harvesting: march',\n",
       " 'Harvesting: april',\n",
       " 'Harvesting: may',\n",
       " 'Harvesting: june',\n",
       " 'Harvesting: july',\n",
       " 'Harvesting: august',\n",
       " 'Harvesting: september',\n",
       " 'Harvesting: october',\n",
       " 'Harvesting: november',\n",
       " 'Harvesting: december',\n",
       " \"Harvesting: don't know\",\n",
       " 'Harvesting: none/ not applicable',\n",
       " 'Harvesting done by household labour',\n",
       " 'Harvesting done by hired labour',\n",
       " 'Harvesting done by communal labour',\n",
       " 'Harvesting done by company/codapec labour',\n",
       " 'Harvesting was done by man',\n",
       " 'Harvesting was done by women',\n",
       " 'Cocoa pod breaking was done last year',\n",
       " 'Pod breaking done by household labour',\n",
       " 'Pod breaking done by hired labour',\n",
       " 'Pod breaking done by communal labour',\n",
       " 'Pod breaking done by company/codapec labour',\n",
       " 'Pod breaking was done by man',\n",
       " 'Pod breaking was done by women',\n",
       " 'Cocoa fermenting was done last year',\n",
       " 'Fermenting done by household labour',\n",
       " 'Fermenting done by hired labour',\n",
       " 'Fermenting done by communal labour',\n",
       " 'Fermenting done by company/codapec labour',\n",
       " 'Fermenting was done by man',\n",
       " 'Fermenting was done by women',\n",
       " 'Cocoa transported from the farm to the homestead',\n",
       " 'Transporting done by household labour',\n",
       " 'Transporting done by hired labour',\n",
       " 'Transporting done by communal labour',\n",
       " 'Transporting done by company/codapec labour',\n",
       " 'Transporting was done by man',\n",
       " 'Transporting was done by women',\n",
       " 'Cocoa was dried last year',\n",
       " 'Drying done by household labour',\n",
       " 'Drying done by hired labour',\n",
       " 'Drying done by communal labour',\n",
       " 'Drying done by company/codapec labour',\n",
       " 'Drying was done by man',\n",
       " 'Drying was done by women',\n",
       " 'Cocoa was lost to dieseases',\n",
       " 'Cocoa was lost to pests',\n",
       " 'Cocoa was lost during storage',\n",
       " 'Cocoa disease type: cocoa swollen shoot virus disease (cssvd)',\n",
       " 'Cocoa disease type: black pod disease',\n",
       " 'Cocoa disease type: blight thread',\n",
       " 'Cocoa disease type: le chancre',\n",
       " 'Cocoa disease type: other',\n",
       " 'Cocoa pest type: mistletoe',\n",
       " 'Cocoa pest type: akate',\n",
       " 'Cocoa pest type: mirids',\n",
       " 'Cocoa pest type: black ants',\n",
       " 'Cocoa pest type: termites',\n",
       " 'Cocoa pest type: rodents',\n",
       " 'Cocoa pest type: other',\n",
       " 'Cocoa pest type: foreuse de tige',\n",
       " 'Cocoa pest type: mousse verte',\n",
       " \"Cocoa pest type: don't know\",\n",
       " 'Cocoa records were kept',\n",
       " 'Cocoa records: money spent on inputs',\n",
       " 'Cocoa records: money spent on hired labourers',\n",
       " 'Cocoa records: number of days household members spent labouring',\n",
       " 'Cocoa records: the volume produced',\n",
       " 'Cocoa records: the volume sold, the price and money received',\n",
       " \"Cocoa records: don't know\",\n",
       " 'Decision making was done by man',\n",
       " 'Decision making was done by women',\n",
       " 'Cocoa sold (share of total)',\n",
       " 'Cocoa consumed at home (share of total)',\n",
       " 'Cocoa duty abunu/abusan (share of total)',\n",
       " 'Cocoa given away free (share of total)',\n",
       " 'Cocoa given in exchange for other goods (barter) (share of total)',\n",
       " 'Cocoa given as payment for labour (share of total)',\n",
       " 'Cocoa lost (eg from bad quality, rotting, theft) (share of total)',\n",
       " 'Country average cocoa price (usd/kg)',\n",
       " 'Sales of cocoa in: january',\n",
       " 'Sales of cocoa in: february',\n",
       " 'Sales of cocoa in: march',\n",
       " 'Sales of cocoa in: april',\n",
       " 'Sales of cocoa in: may',\n",
       " 'Sales of cocoa in: june',\n",
       " 'Sales of cocoa in: july',\n",
       " 'Sales of cocoa in: august',\n",
       " 'Sales of cocoa in: september',\n",
       " 'Sales of cocoa in: october',\n",
       " 'Sales of cocoa in: november',\n",
       " 'Sales of cocoa in: december',\n",
       " \"Sales of cocoa in: don't know\",\n",
       " 'Sales of cocoa in: none/ not applicable',\n",
       " 'Cocoa sold to pbc/produce buying company',\n",
       " 'Cocoa sold to aamc/akuafo adamfo',\n",
       " 'Cocoa sold to abl/adwumapa',\n",
       " 'Cocoa sold to olam',\n",
       " 'Cocoa sold to fcl/fedco',\n",
       " 'Cocoa sold to agl/armajaro',\n",
       " 'Cocoa sold to tgl/transroyal',\n",
       " 'Cocoa sold to kkl/kuapa kokoo',\n",
       " 'Cocoa sold to cmgl/cocoa merchants',\n",
       " 'Cocoa sold to rcl/royal commodities',\n",
       " 'Cocoa sold to cemoi',\n",
       " 'Cocoa sold to barry callebault / saco',\n",
       " 'Cocoa sold to cargill',\n",
       " 'Cocoa sold to coop곡tive/groupement/association de producteurs',\n",
       " 'Cocoa sold to other licenced buying company (lbc)',\n",
       " 'Cocoa sold to other non-licenced buyer',\n",
       " 'Cocoa sold to other',\n",
       " \"Cocoa sold to don't know\",\n",
       " 'Cocoa was sold by man',\n",
       " 'Cocoa was sold by women',\n",
       " 'Received training in the last 5 years',\n",
       " 'If training was received in the last 5 years, was training received in the last ',\n",
       " 'Training on good production practices',\n",
       " 'Training on good environmental practices',\n",
       " 'Training on pest and disease management',\n",
       " 'Training on post-harvest storage and processing',\n",
       " 'Training on health and safety',\n",
       " 'Training on gender',\n",
       " 'Training on child labour',\n",
       " 'Training on record keeping and business management',\n",
       " 'Training on savings and loans',\n",
       " 'Training on cooperative management',\n",
       " 'Training on other',\n",
       " 'Training from farmer organisation',\n",
       " 'Training from government extension',\n",
       " 'Training from trader',\n",
       " 'Training from company, lbc',\n",
       " 'Training from ngo',\n",
       " 'Training from other',\n",
       " \"Training on don't know\",\n",
       " 'Certified by utz, ra, fairtrade or organic (removing other values)',\n",
       " 'Certification: utz',\n",
       " 'Certification: rainforest alliance',\n",
       " 'Certification: flo / fairtrade',\n",
       " 'Certification: organic',\n",
       " 'Household is member of cocoa producer group',\n",
       " 'Producer group services: trainings',\n",
       " 'Producer group services: providing inputs (eg fertilizer, planting material)',\n",
       " 'Producer group services: savings facility',\n",
       " 'Producer group services: loans facility',\n",
       " 'Producer group services: organising labour',\n",
       " 'Producer group services: storage of produce',\n",
       " 'Producer group services: grading of produce',\n",
       " 'Producer group services: marketing',\n",
       " 'Producer group services: other',\n",
       " 'Producer group services: none',\n",
       " \"Producer group services: don't know\",\n",
       " 'Received inputs on credit',\n",
       " 'Inputs on credit: fertilizer',\n",
       " 'Inputs on credit: pesticides, herbicides or fungicides',\n",
       " 'Inputs on credit: seedlings',\n",
       " 'Inputs on credit: other',\n",
       " 'Money borrowed last year',\n",
       " 'Loan source: family or friends',\n",
       " 'Loan source: village money lender',\n",
       " 'Loan source: lbc or pc (licenced buying company or purchasing clerk)',\n",
       " 'Loan source: vsla/islc (informal savings and loans group)',\n",
       " 'Loan source: savings and credit cooperative (sacco) / credit union',\n",
       " 'Loan source: microfinance institution (mfi)',\n",
       " 'Loan source: bank',\n",
       " 'Loan source: trader',\n",
       " 'Loan source: company',\n",
       " 'Loan source: church / mosque',\n",
       " 'Loan source: other',\n",
       " 'Loan source: pisteurs',\n",
       " \"Loan source: cooperative, producer's association, group\",\n",
       " \"Loan source: don't know\",\n",
       " 'Loan Amounts (USD)',\n",
       " 'Loan use: seedlings',\n",
       " 'Loan use: inputs (fertilizer, herbicides, pesticides)',\n",
       " 'Loan use: hired labourers',\n",
       " 'Loan use: farm tools',\n",
       " 'Loan use: hire machinary, tractor',\n",
       " 'Loan use: machinary, tractor',\n",
       " 'Loan use: car or motorbike',\n",
       " 'Loan use: buy land or lease land',\n",
       " 'Loan use: transport costs',\n",
       " 'Loan use: storage',\n",
       " 'Loan use: repair machinary',\n",
       " 'Loan use: processing',\n",
       " 'Loan use: farmer organisation membership fees',\n",
       " 'Loan use: school fees',\n",
       " 'Loan use: clothes',\n",
       " 'Loan use: food for consumption',\n",
       " 'Loan use: funeral costs',\n",
       " 'Loan use: wedding costs',\n",
       " 'Loan use: small business / trade',\n",
       " 'Loan use: other',\n",
       " \"Loan use: don't know\",\n",
       " 'Distance to your main farm',\n",
       " 'Distance to the nearest local market',\n",
       " 'Distance to the nearest input supplier?',\n",
       " 'Distance to the nearest health clinic',\n",
       " 'Distance to the nearest tarred road (sealed road)',\n",
       " 'House owned',\n",
       " 'Land owned',\n",
       " 'Number of sleeping rooms',\n",
       " 'Members per sleeping rooms',\n",
       " 'Bed',\n",
       " 'Table',\n",
       " 'Cabinet/cupboard',\n",
       " 'sofa / couch',\n",
       " 'Watch',\n",
       " 'Wall clock',\n",
       " 'Sewing machine',\n",
       " 'Pots and cookware',\n",
       " 'Bicycle',\n",
       " 'Motorcycle or Scooter',\n",
       " 'Animal-drawn cart',\n",
       " 'Car or Truck',\n",
       " 'Electricity',\n",
       " 'Radio',\n",
       " 'Black & white television',\n",
       " 'Color television',\n",
       " 'Television (BW or Color)',\n",
       " 'Mobile telephone',\n",
       " 'Number of mobile phones in the household',\n",
       " 'Telephone (non-mobile)',\n",
       " 'Refrigerator',\n",
       " 'Freezer',\n",
       " 'Generator',\n",
       " 'Washing machine',\n",
       " 'Box or electric iron',\n",
       " 'Computer/tablet computer',\n",
       " 'Photo camera ( not on phone )',\n",
       " 'Video deck/DVD/VCD',\n",
       " 'Internet access',\n",
       " 'Boat with a motor',\n",
       " 'Boat without a motor',\n",
       " 'Bank account',\n",
       " 'Mosquito net',\n",
       " 'Number of mosquito nets in your household',\n",
       " 'Did all members of your household sleep under a mosquito net last night?',\n",
       " 'Number of members how in living away',\n",
       " 'Migrant',\n",
       " 'Household income source: sale of cocoa',\n",
       " 'Household income source: sale of other crops',\n",
       " 'Household income source: sale of livestock or livestock products',\n",
       " 'Household income source: sale of fish',\n",
       " 'Household income source: sale of bush products (bush meat, charcoal, wood etc)',\n",
       " 'Household income source: labouring for other people on their farms',\n",
       " 'Household income source: labouring for other people non-agriculture',\n",
       " 'Household income source: own small business or trading',\n",
       " 'Household income source: salary employment with a company',\n",
       " 'Household income source: salary employment in government job (teacher, nurse, po',\n",
       " 'Household income source: sale or lease of land',\n",
       " 'Household income source: remittances - money given by friends and family who are',\n",
       " 'Household income source: other',\n",
       " 'Number of different household sources of incomes',\n",
       " 'Land (ha) used for non-cocoa',\n",
       " 'Share of cocoa land over all land',\n",
       " '3 meals/day: january',\n",
       " '3 meals/day: february',\n",
       " '3 meals/day: march',\n",
       " '3 meals/day: april',\n",
       " '3 meals/day: may',\n",
       " '3 meals/day: june',\n",
       " '3 meals/day: july',\n",
       " '3 meals/day: august',\n",
       " '3 meals/day: september',\n",
       " '3 meals/day: october',\n",
       " '3 meals/day: november',\n",
       " '3 meals/day: december',\n",
       " 'Country_Ghana',\n",
       " 'Country_CdI',\n",
       " 'Region_Ashanti',\n",
       " 'Region_Central',\n",
       " 'Region_Brong Ahafo',\n",
       " 'Region_Western',\n",
       " 'Region_Eastern',\n",
       " 'Region_District Autonome De Yamoussoukro',\n",
       " 'Region_Belier',\n",
       " 'Region_Cavally',\n",
       " 'Region_Gbokle',\n",
       " 'Region_Loh-Djiboua',\n",
       " 'Region_Gontougo',\n",
       " 'Region_Guemon',\n",
       " 'Region_Haut-Sassandra',\n",
       " 'Region_Iffou',\n",
       " 'Region_Indenie-Djuablin',\n",
       " 'Region_Marahoue',\n",
       " 'Region_Me',\n",
       " 'Region_Moronou',\n",
       " 'Region_Nawa',\n",
       " 'Region_San Pedro',\n",
       " 'Region_Sud-Comoe',\n",
       " 'Head: age group_5-16',\n",
       " 'Head: age group_17-25',\n",
       " 'Head: age group_26-35',\n",
       " 'Head: age group_36-45',\n",
       " 'Head: age group_46-55',\n",
       " 'Head: age group_56-65',\n",
       " 'Head: age group_66-older',\n",
       " 'Head: education level_no formal education completed',\n",
       " 'Head: education level_Primary school',\n",
       " 'Head: education level_Junior high school (JHS) / middle school',\n",
       " 'Head: education level_Senior high school (SHS) A/O level',\n",
       " 'Head: education level_University',\n",
       " 'Head: education level_Technical college / vocational',\n",
       " 'Head: education level_Other',\n",
       " \"Household's biggest source of income in last year_None / not applicable\",\n",
       " \"Household's biggest source of income in last year_Sale of cocoa\",\n",
       " \"Household's biggest source of income in last year_Sale of other crops\",\n",
       " \"Household's biggest source of income in last year_Sale of livestock or livestock products \",\n",
       " \"Household's biggest source of income in last year_Sale of fish\",\n",
       " \"Household's biggest source of income in last year_Sale of bush products (bush meat, charcoal, wood etc)\",\n",
       " \"Household's biggest source of income in last year_Labouring for other people on their farms\",\n",
       " \"Household's biggest source of income in last year_Labouring for other people non-agriculture\",\n",
       " \"Household's biggest source of income in last year_Own small business or trading\",\n",
       " \"Household's biggest source of income in last year_Salary employment with a company\",\n",
       " \"Household's biggest source of income in last year_Salary employment in government job (teacher, nurse, police, agric officer etc)\",\n",
       " \"Household's biggest source of income in last year_Sale or lease of land\",\n",
       " \"Household's biggest source of income in last year_Remittances - money given by friends and family who are living away from the household\",\n",
       " \"Household's biggest source of income in last year_Other\",\n",
       " \"Household's second biggest source of income in last year_None / not applicable\",\n",
       " \"Household's second biggest source of income in last year_Sale of cocoa\",\n",
       " \"Household's second biggest source of income in last year_Sale of other crops\",\n",
       " \"Household's second biggest source of income in last year_Sale of livestock or livestock products \",\n",
       " \"Household's second biggest source of income in last year_Sale of fish\",\n",
       " \"Household's second biggest source of income in last year_Sale of bush products (bush meat, charcoal, wood etc)\",\n",
       " \"Household's second biggest source of income in last year_Labouring for other people on their farms\",\n",
       " \"Household's second biggest source of income in last year_Labouring for other people non-agriculture\",\n",
       " \"Household's second biggest source of income in last year_Own small business or trading\",\n",
       " \"Household's second biggest source of income in last year_Salary employment with a company\",\n",
       " \"Household's second biggest source of income in last year_Salary employment in government job (teacher, nurse, police, agric officer etc)\",\n",
       " \"Household's second biggest source of income in last year_Sale or lease of land\",\n",
       " \"Household's second biggest source of income in last year_Remittances - money given by friends and family who are living away from the household\",\n",
       " \"Household's second biggest source of income in last year_Other\",\n",
       " 'Second most important crop_Avocado ',\n",
       " 'Second most important crop_Bananas',\n",
       " 'Second most important crop_Beans',\n",
       " 'Second most important crop_Cabbages',\n",
       " 'Second most important crop_Carrots',\n",
       " 'Second most important crop_Cashews',\n",
       " 'Second most important crop_Cassava',\n",
       " 'Second most important crop_Chili',\n",
       " 'Second most important crop_Cocoa',\n",
       " 'Second most important crop_Coconut',\n",
       " 'Second most important crop_Cocoyam',\n",
       " 'Second most important crop_Coffee',\n",
       " 'Second most important crop_Eggplant',\n",
       " 'Second most important crop_Ginger',\n",
       " 'Second most important crop_Groundnuts',\n",
       " 'Second most important crop_Lime',\n",
       " 'Second most important crop_Maize',\n",
       " 'Second most important crop_Okra',\n",
       " 'Second most important crop_Oranges',\n",
       " 'Second most important crop_Palm',\n",
       " 'Second most important crop_Papaya',\n",
       " 'Second most important crop_Peppers',\n",
       " 'Second most important crop_Pineapple',\n",
       " 'Second most important crop_Plantain',\n",
       " 'Second most important crop_Sweet Potato',\n",
       " 'Second most important crop_Rice',\n",
       " 'Second most important crop_Rubber',\n",
       " 'Second most important crop_Sugar cane',\n",
       " 'Second most important crop_Tomatoes',\n",
       " 'Second most important crop_Watermelon',\n",
       " 'Second most important crop_Yam',\n",
       " 'Second most important crop_Other',\n",
       " 'Second most important crop_none/ not applicable',\n",
       " 'Years growing cocoa_1-5 years',\n",
       " 'Years growing cocoa_6-10 years',\n",
       " 'Years growing cocoa_11-15 years',\n",
       " 'Years growing cocoa_16-20 years',\n",
       " 'Years growing cocoa_20-24 years',\n",
       " 'Years growing cocoa_More than 25 years',\n",
       " 'Compared with 5 years ago, household increased, decreased, kept the same land_Increase',\n",
       " 'Compared with 5 years ago, household increased, decreased, kept the same land_Decrease',\n",
       " 'Compared with 5 years ago, household increased, decreased, kept the same land_No change',\n",
       " 'Compared with 5 years ago, household increased, decreased, kept the same land_Not done for 5 years',\n",
       " 'Number of training days related to cocoa in the past 5 years_none',\n",
       " 'Number of training days related to cocoa in the past 5 years_1-2 days',\n",
       " 'Number of training days related to cocoa in the past 5 years_3-5 days',\n",
       " 'Number of training days related to cocoa in the past 5 years_5-10 days',\n",
       " 'Number of training days related to cocoa in the past 5 years_10+ days',\n",
       " 'Main source of drinking water_Piped - into dwelling',\n",
       " 'Main source of drinking water_Piped - into yard/plot',\n",
       " 'Main source of drinking water_Piped - public tap / standpipe',\n",
       " 'Main source of drinking water_Tube well or borehole',\n",
       " 'Main source of drinking water_Dug well - protected',\n",
       " 'Main source of drinking water_Dug well - unprotected',\n",
       " 'Main source of drinking water_Spring - protected',\n",
       " 'Main source of drinking water_Spring - unprotected',\n",
       " 'Main source of drinking water_Rainwater',\n",
       " 'Main source of drinking water_Tanker truck',\n",
       " 'Main source of drinking water_Surface water (river/ dam/ lake/ pond/ stream/ canal/ irrigation channel)',\n",
       " 'Main source of drinking water_Sachet water',\n",
       " 'Main source of drinking water_Other',\n",
       " 'Type of toilet_Flush - to piped sewer system',\n",
       " 'Type of toilet_Flush - to septic tank',\n",
       " 'Type of toilet_Flush - to pit latrine',\n",
       " 'Type of toilet_Flush - to somewhere else',\n",
       " 'Type of toilet_Pit latrine - ventilated improved pit (VIP)',\n",
       " 'Type of toilet_Pit latrine - with concrete slab',\n",
       " 'Type of toilet_Pit latrine - without slab / open pit',\n",
       " 'Type of toilet_Bucket toilet',\n",
       " 'Type of toilet_Hanging toilet / hanging latrine',\n",
       " 'Type of toilet_No facility/bush/field',\n",
       " 'Type of toilet_Flush - to piped sewer system - shared',\n",
       " 'Type of toilet_Flush - to septic tank - shared',\n",
       " 'Type of toilet_Flush - to pit latrine - shared',\n",
       " \"Type of toilet_Flush - don't know where - shared\",\n",
       " 'Type of toilet_Pit latrine - ventilated improved pit (VIP) - shared',\n",
       " 'Type of toilet_Pit latrine - with slab - shared',\n",
       " 'Type of toilet_Pit latrine - without slab / open pit - shared',\n",
       " 'Type of toilet_Bucket toilet - shared',\n",
       " 'Type of toilet_Hanging toilet / hanging latrine - shared',\n",
       " 'Cooking fuel_Electricity',\n",
       " 'Cooking fuel_LPG',\n",
       " 'Cooking fuel_Natural gas',\n",
       " 'Cooking fuel_Charcoal',\n",
       " 'Cooking fuel_Wood',\n",
       " 'Cooking fuel_Agricultural crop residue',\n",
       " 'Cooking fuel_No food cooked in HH',\n",
       " 'Roof material_No roof',\n",
       " 'Roof material_Thatch / palm leaf',\n",
       " 'Roof material_Rustic mat',\n",
       " 'Roof material_Palm / bamboo',\n",
       " 'Roof material_Wood planks',\n",
       " 'Roof material_Metal / zinc /iron',\n",
       " 'Roof material_Wood',\n",
       " 'Roof material_Calamine / cement fiber',\n",
       " 'Roof material_Ceramic tiles',\n",
       " 'Roof material_Cement',\n",
       " 'Roof material_Roofing shingles',\n",
       " 'Roof material_Asbestos/slate roofing sheets',\n",
       " 'Roof material_Other',\n",
       " 'Floor material_Earth, sand',\n",
       " 'Floor material_Dung',\n",
       " 'Floor material_Wood planks',\n",
       " 'Floor material_Ceramic/marble/porcelain tiles / terrazo',\n",
       " 'Floor material_Cement / concrete',\n",
       " 'Floor material_Woolen carpets/ synthetic carpet',\n",
       " 'Floor material_Linoleum/rubber carpet',\n",
       " 'Floor material_Other',\n",
       " 'Walls material_No walls',\n",
       " 'Walls material_Cane / palm / trunks',\n",
       " 'Walls material_Dirt',\n",
       " 'Walls material_Bamboo with mud',\n",
       " 'Walls material_Stone with mud',\n",
       " 'Walls material_Uncovered adobe',\n",
       " 'Walls material_Plywood',\n",
       " 'Walls material_Reused wood',\n",
       " 'Walls material_Cement',\n",
       " 'Walls material_Stone with lime / cement',\n",
       " 'Walls material_Bricks',\n",
       " 'Walls material_Cement blocks',\n",
       " 'Walls material_Covered adobe',\n",
       " 'Walls material_Wood planks / shingles',\n",
       " 'Dairy cattle_none',\n",
       " 'Dairy cattle_1-4',\n",
       " 'Dairy cattle_5-9',\n",
       " 'Dairy cattle_10+',\n",
       " 'Cows/bulls_none',\n",
       " 'Cows/bulls_1-4',\n",
       " 'Cows/bulls_5-9',\n",
       " 'Cows/bulls_10+',\n",
       " 'Horses/donkeys/mules_none',\n",
       " 'Horses/donkeys/mules_1-4',\n",
       " 'Goats_none',\n",
       " 'Goats_1-4',\n",
       " 'Goats_5-9',\n",
       " 'Goats_10+',\n",
       " 'Pigs_none',\n",
       " 'Pigs_1-4',\n",
       " 'Pigs_5-9',\n",
       " 'Pigs_10+',\n",
       " 'Rabbits_none',\n",
       " 'Rabbits_1-9',\n",
       " 'Rabbits_10+',\n",
       " 'Grasscutter_none',\n",
       " 'Grasscutter_1-9',\n",
       " 'Grasscutter_10+',\n",
       " 'Sheep_none',\n",
       " 'Sheep_1-4',\n",
       " 'Sheep_5-9',\n",
       " 'Sheep_10+',\n",
       " 'Chickens_none',\n",
       " 'Chickens_1-9',\n",
       " 'Chickens_10-29',\n",
       " 'Chickens_30+',\n",
       " 'Other poultry_none',\n",
       " 'Other poultry_1-9',\n",
       " 'Other poultry_10-29',\n",
       " 'Other poultry_30+',\n",
       " 'Other animals_none',\n",
       " 'Other animals_1-4',\n",
       " 'Other animals_5-9',\n",
       " 'Other animals_10+',\n",
       " 'Meals per day: january_one meal a day',\n",
       " 'Meals per day: january_two meals a day',\n",
       " 'Meals per day: january_three meals a day',\n",
       " 'Meals per day: february_one meal a day',\n",
       " 'Meals per day: february_two meals a day',\n",
       " 'Meals per day: february_three meals a day',\n",
       " 'Meals per day: march_one meal a day',\n",
       " 'Meals per day: march_two meals a day',\n",
       " 'Meals per day: march_three meals a day',\n",
       " 'Meals per day: april_one meal a day',\n",
       " 'Meals per day: april_two meals a day',\n",
       " 'Meals per day: april_three meals a day',\n",
       " 'Meals per day: may_one meal a day',\n",
       " 'Meals per day: may_two meals a day',\n",
       " 'Meals per day: may_three meals a day',\n",
       " 'Meals per day: june_one meal a day',\n",
       " 'Meals per day: june_two meals a day',\n",
       " 'Meals per day: june_three meals a day',\n",
       " 'Meals per day: july_one meal a day',\n",
       " 'Meals per day: july_two meals a day',\n",
       " 'Meals per day: july_three meals a day',\n",
       " 'Meals per day: august_one meal a day',\n",
       " 'Meals per day: august_two meals a day',\n",
       " 'Meals per day: august_three meals a day',\n",
       " 'Meals per day: september_one meal a day',\n",
       " 'Meals per day: september_two meals a day',\n",
       " 'Meals per day: september_three meals a day',\n",
       " 'Meals per day: october_one meal a day',\n",
       " 'Meals per day: october_two meals a day',\n",
       " 'Meals per day: october_three meals a day',\n",
       " 'Meals per day: november_one meal a day',\n",
       " 'Meals per day: november_two meals a day',\n",
       " 'Meals per day: november_three meals a day',\n",
       " 'Meals per day: december_one meal a day',\n",
       " 'Meals per day: december_two meals a day',\n",
       " 'Meals per day: december_three meals a day',\n",
       " 'Cocoa Farmer (Importance)_most important',\n",
       " 'Cocoa Farmer (Importance)_2nd most important',\n",
       " 'Youth_youth',\n",
       " 'Youth_non-youth',\n",
       " 'Analytical Group_CdI: Male-headed, large',\n",
       " 'Analytical Group_CdI: Male-headed, typical',\n",
       " 'Analytical Group_Ghana: Female-headed',\n",
       " 'Analytical Group_Ghana: Male-headed, large',\n",
       " 'Analytical Group_Ghana: Male-headed, typical']"
      ]
     },
     "execution_count": 9,
     "metadata": {},
     "output_type": "execute_result"
    }
   ],
   "source": [
    "list(data.columns)"
   ]
  },
  {
   "cell_type": "markdown",
   "metadata": {},
   "source": [
    "## 1.5 Train test split"
   ]
  },
  {
   "cell_type": "markdown",
   "metadata": {},
   "source": [
    "Let's split the data into the training and testing sets"
   ]
  },
  {
   "cell_type": "code",
   "execution_count": 10,
   "metadata": {},
   "outputs": [
    {
     "name": "stdout",
     "output_type": "stream",
     "text": [
      "Training set has 1032 samples.\n",
      "Testing set has 345 samples.\n"
     ]
    }
   ],
   "source": [
    "X_train, X_test, y_train, y_test = train_test_split(data, target,\n",
    "                                                    train_size=0.75, test_size=0.25,\n",
    "                                                   random_state = 32)\n",
    "\n",
    "# Show the results of the split\n",
    "print(\"Training set has {} samples.\".format(X_train.shape[0]))\n",
    "print(\"Testing set has {} samples.\".format(X_test.shape[0]))"
   ]
  },
  {
   "cell_type": "markdown",
   "metadata": {},
   "source": [
    "Let's verify that training and testing set's have the same proportion of success of the target feature"
   ]
  },
  {
   "cell_type": "code",
   "execution_count": 11,
   "metadata": {},
   "outputs": [
    {
     "data": {
      "text/plain": [
       "False    0.851126\n",
       "True     0.148874\n",
       "Name: Living Income Achieved, dtype: float64"
      ]
     },
     "execution_count": 11,
     "metadata": {},
     "output_type": "execute_result"
    }
   ],
   "source": [
    "target.value_counts()/len(target)"
   ]
  },
  {
   "cell_type": "code",
   "execution_count": 12,
   "metadata": {},
   "outputs": [
    {
     "data": {
      "text/plain": [
       "False    0.844961\n",
       "True     0.155039\n",
       "Name: Living Income Achieved, dtype: float64"
      ]
     },
     "execution_count": 12,
     "metadata": {},
     "output_type": "execute_result"
    }
   ],
   "source": [
    "y_train.value_counts()/len(y_train)"
   ]
  },
  {
   "cell_type": "code",
   "execution_count": 13,
   "metadata": {},
   "outputs": [
    {
     "data": {
      "text/plain": [
       "False    0.869565\n",
       "True     0.130435\n",
       "Name: Living Income Achieved, dtype: float64"
      ]
     },
     "execution_count": 13,
     "metadata": {},
     "output_type": "execute_result"
    }
   ],
   "source": [
    "y_test.value_counts()/len(y_test)"
   ]
  },
  {
   "cell_type": "markdown",
   "metadata": {},
   "source": [
    "# 2 Baseline classifier"
   ]
  },
  {
   "cell_type": "markdown",
   "metadata": {},
   "source": [
    "I'll start with a Naive classifier to see what one would achieve with predicting the majority class. This will be used as baseline to compare the performance gain of the better trained classifiers"
   ]
  },
  {
   "cell_type": "markdown",
   "metadata": {},
   "source": [
    "## 2.1 Naive Predictor on the majority class"
   ]
  },
  {
   "cell_type": "code",
   "execution_count": 14,
   "metadata": {},
   "outputs": [
    {
     "name": "stdout",
     "output_type": "stream",
     "text": [
      "Naive Predictor: [Accuracy score: 0.8511, F-score: 0.8772]\n",
      "Naive Predictor: [Precision score: 0.8511, Recall: 1.0000]\n"
     ]
    }
   ],
   "source": [
    "TP = np.sum(target==0) # Counting the zeros as this is the naive case (majority class)\n",
    "FP = target.count() - TP # Specific to the naive case\n",
    "\n",
    "TN = 0 # No predicted negatives in the naive case\n",
    "FN = 0 # No predicted negatives in the naive case\n",
    "\n",
    "# Calculate accuracy, precision and recall\n",
    "naive_accuracy = (TP + TN)/(TP + TN + FP + FN)\n",
    "naive_recall = TP/(TP + FN)\n",
    "naive_precision = TP/(TP + FP)\n",
    "\n",
    "# Calculate F-score using the formula for beta = 0.5 and correct values for precision and recall.\n",
    "naive_fscore = (1+0.5**2)*(naive_precision*naive_recall)/((0.5**2)*naive_precision+naive_recall)\n",
    "\n",
    "# Print the results \n",
    "print(\"Naive Predictor: [Accuracy score: {:.4f}, F-score: {:.4f}]\".format(naive_accuracy, naive_fscore))\n",
    "print(\"Naive Predictor: [Precision score: {:.4f}, Recall: {:.4f}]\".format(naive_precision, naive_recall))"
   ]
  },
  {
   "cell_type": "markdown",
   "metadata": {},
   "source": [
    "As we see from above, the accuracy (which in this special case is the same as the precision) is 85% for the majority class, with perfect recall, since all are predicted to not reach the living income)"
   ]
  },
  {
   "cell_type": "markdown",
   "metadata": {},
   "source": [
    "# 3 Initial Classifiers"
   ]
  },
  {
   "cell_type": "markdown",
   "metadata": {},
   "source": [
    "I'll first prepare a function that fits a classifier in a given sample size and prints some performance indicators"
   ]
  },
  {
   "cell_type": "code",
   "execution_count": 15,
   "metadata": {},
   "outputs": [],
   "source": [
    "def train_predict(learner, sample_size, X_train, y_train, X_test, y_test): \n",
    "    '''\n",
    "    inputs:\n",
    "       - learner: the learning algorithm to be trained and predicted on\n",
    "       - sample_size: the size of samples (number) to be drawn from training set\n",
    "       - X_train: features training set\n",
    "       - y_train: income training set\n",
    "       - X_test: features testing set\n",
    "       - y_test: income testing set\n",
    "    '''\n",
    "    \n",
    "    results = {}\n",
    "    \n",
    "    # Fit the learner to the training data\n",
    "    start = time() # Get start time\n",
    "    learner = learner.fit(X_train[:sample_size], y_train[:sample_size])\n",
    "    end = time() # Get end time\n",
    "    \n",
    "    # TODO: Calculate the training time\n",
    "    results['train_time'] = end - start\n",
    "        \n",
    "    # Get the predictions on the test set(X_test),\n",
    "    #       then get predictions on the training samples(X_train) using .predict()\n",
    "    start = time() # Get start time\n",
    "    predictions_test = learner.predict(X_test)\n",
    "    predictions_train = learner.predict(X_train)\n",
    "    end = time() # Get end time\n",
    "    \n",
    "    # Calculate the total prediction time\n",
    "    results['pred_time'] = end-start\n",
    "            \n",
    "    # Compute accuracy on the first 300 training samples which is y_train[:300]\n",
    "    results['acc_train'] = accuracy_score(y_train, predictions_train)\n",
    "        \n",
    "    # Compute accuracy on test set using accuracy_score()\n",
    "    results['acc_test'] = accuracy_score(y_test, predictions_test)\n",
    "    \n",
    "    # Compute F-score on the the first 300 training samples using fbeta_score()\n",
    "    results['f_train'] = fbeta_score(y_train, predictions_train, beta = 0.5)\n",
    "        \n",
    "    # Compute F-score on the test set which is y_test\n",
    "    results['f_test'] = fbeta_score(y_test, predictions_test, beta = 0.5)\n",
    "       \n",
    "    # Success\n",
    "    print(\"{} trained on {} samples.\".format(learner.__class__.__name__, sample_size))\n",
    "        \n",
    "    # Return the results\n",
    "    return results"
   ]
  },
  {
   "cell_type": "code",
   "execution_count": 16,
   "metadata": {},
   "outputs": [
    {
     "name": "stdout",
     "output_type": "stream",
     "text": [
      "\n",
      "LogisticRegression trained on 10 samples.\n",
      "LogisticRegression trained on 103 samples.\n"
     ]
    },
    {
     "name": "stderr",
     "output_type": "stream",
     "text": [
      "C:\\Users\\marcelot\\Anaconda3\\lib\\site-packages\\sklearn\\linear_model\\_logistic.py:764: ConvergenceWarning: lbfgs failed to converge (status=1):\n",
      "STOP: TOTAL NO. of ITERATIONS REACHED LIMIT.\n",
      "\n",
      "Increase the number of iterations (max_iter) or scale the data as shown in:\n",
      "    https://scikit-learn.org/stable/modules/preprocessing.html\n",
      "Please also refer to the documentation for alternative solver options:\n",
      "    https://scikit-learn.org/stable/modules/linear_model.html#logistic-regression\n",
      "  extra_warning_msg=_LOGISTIC_SOLVER_CONVERGENCE_MSG)\n",
      "C:\\Users\\marcelot\\Anaconda3\\lib\\site-packages\\sklearn\\linear_model\\_logistic.py:764: ConvergenceWarning: lbfgs failed to converge (status=1):\n",
      "STOP: TOTAL NO. of ITERATIONS REACHED LIMIT.\n",
      "\n",
      "Increase the number of iterations (max_iter) or scale the data as shown in:\n",
      "    https://scikit-learn.org/stable/modules/preprocessing.html\n",
      "Please also refer to the documentation for alternative solver options:\n",
      "    https://scikit-learn.org/stable/modules/linear_model.html#logistic-regression\n",
      "  extra_warning_msg=_LOGISTIC_SOLVER_CONVERGENCE_MSG)\n"
     ]
    },
    {
     "name": "stdout",
     "output_type": "stream",
     "text": [
      "LogisticRegression trained on 1032 samples.\n",
      "\n",
      "AdaBoostClassifier trained on 10 samples.\n",
      "AdaBoostClassifier trained on 103 samples.\n",
      "AdaBoostClassifier trained on 1032 samples.\n",
      "\n",
      "KNeighborsClassifier trained on 10 samples.\n",
      "KNeighborsClassifier trained on 103 samples.\n",
      "KNeighborsClassifier trained on 1032 samples.\n"
     ]
    }
   ],
   "source": [
    "#  Initialize three models\n",
    "clf_A = LogisticRegression(random_state=42)\n",
    "clf_B = AdaBoostClassifier(random_state=42)\n",
    "clf_C = KNeighborsClassifier()\n",
    "\n",
    "# Calculate the number of samples for 1%, 10%, and 100% of the training data\n",
    "# samples_100 is the entire training set \n",
    "# samples_10 is 10% of samples_100\n",
    "# samples_1 is 1% of samples_100\n",
    "samples_100 = len(y_train)\n",
    "samples_10 = int(samples_100*0.1)\n",
    "samples_1 = int(samples_100*0.01)\n",
    "\n",
    "# Collect results on the learners\n",
    "results = {}\n",
    "for clf in [clf_A, clf_B, clf_C]:\n",
    "    print(\"\")\n",
    "    clf_name = clf.__class__.__name__\n",
    "    results[clf_name] = {}\n",
    "    for i, samples in enumerate([samples_1, samples_10, samples_100]):\n",
    "        results[clf_name][i] = \\\n",
    "        train_predict(clf, samples, X_train, y_train, X_test, y_test)"
   ]
  },
  {
   "cell_type": "code",
   "execution_count": 17,
   "metadata": {
    "scrolled": false
   },
   "outputs": [
    {
     "name": "stderr",
     "output_type": "stream",
     "text": [
      "D:\\ND DS\\2. Intro to Data Science\\Project (Blog post)\\visuals.py:118: UserWarning: Tight layout not applied. tight_layout cannot make axes width small enough to accommodate all axes decorations\n",
      "  pl.tight_layout()\n"
     ]
    },
    {
     "data": {
      "image/png": "[encoded data removed]",
      "text/plain": [
       "<Figure size 1080x720 with 6 Axes>"
      ]
     },
     "metadata": {
      "needs_background": "light"
     },
     "output_type": "display_data"
    }
   ],
   "source": [
    "# Run metrics visualization for the three supervised learning models chosen\n",
    "vs.evaluate(results, naive_accuracy, naive_fscore)"
   ]
  },
  {
   "cell_type": "markdown",
   "metadata": {},
   "source": [
    "ADAboost seems to be best model, with the full sample size"
   ]
  },
  {
   "cell_type": "code",
   "execution_count": 18,
   "metadata": {},
   "outputs": [],
   "source": [
    "adaBase_accuracy = results['AdaBoostClassifier'][2]['acc_test']\n",
    "adaBase_fscore = results['AdaBoostClassifier'][2]['f_test']"
   ]
  },
  {
   "cell_type": "code",
   "execution_count": 19,
   "metadata": {},
   "outputs": [
    {
     "name": "stdout",
     "output_type": "stream",
     "text": [
      "Naive Predictor: [Accuracy score: 0.8511, F-score: 0.8772]\n",
      "ADAboost, base Predictor: [Accuracy score: 0.9420, F-score: 0.7895]\n"
     ]
    }
   ],
   "source": [
    "print(\"Naive Predictor: [Accuracy score: {:.4f}, F-score: {:.4f}]\".format(naive_accuracy, naive_fscore))\n",
    "print(\"ADAboost, base Predictor: [Accuracy score: {:.4f}, F-score: {:.4f}]\".format(adaBase_accuracy, adaBase_fscore))"
   ]
  },
  {
   "cell_type": "markdown",
   "metadata": {},
   "source": [
    "# 4 Grid search on the most promising classifier"
   ]
  },
  {
   "cell_type": "markdown",
   "metadata": {},
   "source": [
    "To improve on that, I'll perform a grid search on the ADAboost parameters"
   ]
  },
  {
   "cell_type": "code",
   "execution_count": 20,
   "metadata": {},
   "outputs": [
    {
     "name": "stdout",
     "output_type": "stream",
     "text": [
      "Fitting 5 folds for each of 18 candidates, totalling 90 fits\n"
     ]
    },
    {
     "name": "stderr",
     "output_type": "stream",
     "text": [
      "[Parallel(n_jobs=-1)]: Using backend LokyBackend with 8 concurrent workers.\n",
      "[Parallel(n_jobs=-1)]: Done  34 tasks      | elapsed:  1.6min\n",
      "[Parallel(n_jobs=-1)]: Done  90 out of  90 | elapsed:  5.4min finished\n"
     ]
    },
    {
     "name": "stdout",
     "output_type": "stream",
     "text": [
      "Unoptimized model\n",
      "------\n",
      "Accuracy score on testing data: 0.9420\n",
      "F-score on testing data: 0.7895\n",
      "\n",
      "Optimized Model\n",
      "------\n",
      "Final accuracy score on the testing data: 0.9623\n",
      "Final F-score on the testing data: 0.8597\n"
     ]
    }
   ],
   "source": [
    "# Create the parameters list to tune\n",
    "parameters = {'n_estimators':[10, 50, 500, 1200, 1500, 2000],'learning_rate':[1.0,1.5,2.0]}\n",
    "\n",
    "# Make an fbeta_score scoring object using make_scorer()\n",
    "scorer = make_scorer(fbeta_score, beta= 0.5)\n",
    "\n",
    "# Perform grid search on the classifier using 'scorer' as the scoring method using GridSearchCV()\n",
    "grid_obj = GridSearchCV(clf_B, parameters, scoring = scorer, verbose=1, n_jobs = -1)\n",
    "\n",
    "# Fit the grid search object to the training data and find the optimal parameters using fit()\n",
    "grid_fit = grid_obj.fit(X_train, y_train)\n",
    "\n",
    "# Get the estimator\n",
    "best_clf = grid_fit.best_estimator_\n",
    "\n",
    "# Make predictions \n",
    "best_predictions = best_clf.predict(X_test)\n",
    "\n",
    "# metrics\n",
    "adaOptim_accuracy = accuracy_score(y_test, best_predictions)\n",
    "adaOptim_fscore = fbeta_score(y_test, best_predictions, beta = 0.5)\n",
    "\n",
    "# Report the before-and-afterscores\n",
    "print(\"Unoptimized model\\n------\")\n",
    "print(\"Accuracy score on testing data: {:.4f}\".format(adaBase_accuracy))\n",
    "print(\"F-score on testing data: {:.4f}\".format(adaBase_fscore))\n",
    "print(\"\\nOptimized Model\\n------\")\n",
    "print(\"Final accuracy score on the testing data: {:.4f}\".format(adaOptim_accuracy))\n",
    "print(\"Final F-score on the testing data: {:.4f}\".format(adaOptim_fscore))"
   ]
  },
  {
   "cell_type": "code",
   "execution_count": 21,
   "metadata": {},
   "outputs": [
    {
     "name": "stdout",
     "output_type": "stream",
     "text": [
      "Naive Predictor: [Accuracy score: 0.8511, F-score: 0.8772]\n",
      "ADAboost, base Predictor: [Accuracy score: 0.9420, F-score: 0.7895]\n",
      "ADAboost, Optimized Predictor: [Accuracy score: 0.9623, F-score: 0.8597]\n"
     ]
    }
   ],
   "source": [
    "print(\"Naive Predictor: [Accuracy score: {:.4f}, F-score: {:.4f}]\".format(naive_accuracy, naive_fscore))\n",
    "print(\"ADAboost, base Predictor: [Accuracy score: {:.4f}, F-score: {:.4f}]\".format(adaBase_accuracy, adaBase_fscore))\n",
    "print(\"ADAboost, Optimized Predictor: [Accuracy score: {:.4f}, F-score: {:.4f}]\".format(adaOptim_accuracy, adaOptim_fscore))"
   ]
  },
  {
   "cell_type": "markdown",
   "metadata": {},
   "source": [
    "Let's check the metrics more in details, checking the metrics per class"
   ]
  },
  {
   "cell_type": "code",
   "execution_count": 103,
   "metadata": {},
   "outputs": [
    {
     "data": {
      "text/plain": [
       "(array([0.97674419, 0.86363636]),\n",
       " array([0.98      , 0.84444444]),\n",
       " array([0.97739362, 0.85972851]),\n",
       " array([300,  45], dtype=int64))"
      ]
     },
     "execution_count": 103,
     "metadata": {},
     "output_type": "execute_result"
    }
   ],
   "source": [
    "precision_recall_fscore_support(y_test, best_predictions, beta = 0.5)"
   ]
  },
  {
   "cell_type": "code",
   "execution_count": 23,
   "metadata": {},
   "outputs": [
    {
     "data": {
      "text/plain": [
       "array([[294,   6],\n",
       "       [  7,  38]], dtype=int64)"
      ]
     },
     "execution_count": 23,
     "metadata": {},
     "output_type": "execute_result"
    }
   ],
   "source": [
    "confusion_matrix(y_test, best_predictions)"
   ]
  },
  {
   "cell_type": "code",
   "execution_count": 24,
   "metadata": {},
   "outputs": [
    {
     "data": {
      "image/png": "[encoded data removed]",
      "text/plain": [
       "<Figure size 432x288 with 2 Axes>"
      ]
     },
     "metadata": {
      "needs_background": "light"
     },
     "output_type": "display_data"
    }
   ],
   "source": [
    "plot_confusion_matrix(best_clf, \n",
    "                      X_test, y_test,\n",
    "                      cmap=plt.cm.Blues,\n",
    "                      normalize = 'true');"
   ]
  },
  {
   "cell_type": "markdown",
   "metadata": {},
   "source": [
    "Let's check the most important feature"
   ]
  },
  {
   "cell_type": "code",
   "execution_count": 25,
   "metadata": {},
   "outputs": [
    {
     "data": {
      "image/png": "[encoded data removed]",
      "text/plain": [
       "<Figure size 648x360 with 1 Axes>"
      ]
     },
     "metadata": {
      "needs_background": "light"
     },
     "output_type": "display_data"
    }
   ],
   "source": [
    "# TODO: Extract the feature importances using .feature_importances_ \n",
    "importances = best_clf.feature_importances_\n",
    "\n",
    "# Plot\n",
    "vs.feature_plot(importances, X_train, y_train)"
   ]
  },
  {
   "cell_type": "code",
   "execution_count": 26,
   "metadata": {},
   "outputs": [
    {
     "data": {
      "text/html": [
       "<div>\n",
       "<style scoped>\n",
       "    .dataframe tbody tr th:only-of-type {\n",
       "        vertical-align: middle;\n",
       "    }\n",
       "\n",
       "    .dataframe tbody tr th {\n",
       "        vertical-align: top;\n",
       "    }\n",
       "\n",
       "    .dataframe thead th {\n",
       "        text-align: right;\n",
       "    }\n",
       "</style>\n",
       "<table border=\"1\" class=\"dataframe\">\n",
       "  <thead>\n",
       "    <tr style=\"text-align: right;\">\n",
       "      <th></th>\n",
       "      <th>col_name</th>\n",
       "    </tr>\n",
       "  </thead>\n",
       "  <tbody>\n",
       "    <tr>\n",
       "      <th>Cocoa production (kg/ha)</th>\n",
       "      <td>0.0900</td>\n",
       "    </tr>\n",
       "    <tr>\n",
       "      <th>Estimated income percentage from sale of cocoa</th>\n",
       "      <td>0.0885</td>\n",
       "    </tr>\n",
       "    <tr>\n",
       "      <th>Cocoa production (kg)</th>\n",
       "      <td>0.0585</td>\n",
       "    </tr>\n",
       "    <tr>\n",
       "      <th>Productive land under cocoa (ha)</th>\n",
       "      <td>0.0415</td>\n",
       "    </tr>\n",
       "    <tr>\n",
       "      <th>Cocoa land owned (ha)</th>\n",
       "      <td>0.0275</td>\n",
       "    </tr>\n",
       "    <tr>\n",
       "      <th>Hectares with trees between 5 and 25 years old</th>\n",
       "      <td>0.0240</td>\n",
       "    </tr>\n",
       "    <tr>\n",
       "      <th>Head: age</th>\n",
       "      <td>0.0230</td>\n",
       "    </tr>\n",
       "    <tr>\n",
       "      <th>Estimated income percentage from sale of other crops</th>\n",
       "      <td>0.0220</td>\n",
       "    </tr>\n",
       "    <tr>\n",
       "      <th>Estimated income percentage from own small business or trading</th>\n",
       "      <td>0.0215</td>\n",
       "    </tr>\n",
       "    <tr>\n",
       "      <th>Land used to cultivate all crops (ha)</th>\n",
       "      <td>0.0160</td>\n",
       "    </tr>\n",
       "    <tr>\n",
       "      <th>Distance to the nearest local market</th>\n",
       "      <td>0.0140</td>\n",
       "    </tr>\n",
       "    <tr>\n",
       "      <th>Dependency ratio</th>\n",
       "      <td>0.0130</td>\n",
       "    </tr>\n",
       "    <tr>\n",
       "      <th>Number of males 15-65</th>\n",
       "      <td>0.0120</td>\n",
       "    </tr>\n",
       "    <tr>\n",
       "      <th>Share of cocoa land over all land</th>\n",
       "      <td>0.0115</td>\n",
       "    </tr>\n",
       "    <tr>\n",
       "      <th>Members per sleeping rooms</th>\n",
       "      <td>0.0105</td>\n",
       "    </tr>\n",
       "    <tr>\n",
       "      <th>Distance to your main farm</th>\n",
       "      <td>0.0105</td>\n",
       "    </tr>\n",
       "    <tr>\n",
       "      <th>Distance to the nearest input supplier?</th>\n",
       "      <td>0.0100</td>\n",
       "    </tr>\n",
       "    <tr>\n",
       "      <th>All fallow land or land left for grazing (ha)</th>\n",
       "      <td>0.0095</td>\n",
       "    </tr>\n",
       "    <tr>\n",
       "      <th>Cocoa sold (share of total)</th>\n",
       "      <td>0.0090</td>\n",
       "    </tr>\n",
       "    <tr>\n",
       "      <th>All land owned (ha)</th>\n",
       "      <td>0.0090</td>\n",
       "    </tr>\n",
       "  </tbody>\n",
       "</table>\n",
       "</div>"
      ],
      "text/plain": [
       "                                                    col_name\n",
       "Cocoa production (kg/ha)                              0.0900\n",
       "Estimated income percentage from sale of cocoa        0.0885\n",
       "Cocoa production (kg)                                 0.0585\n",
       "Productive land under cocoa (ha)                      0.0415\n",
       "Cocoa land owned (ha)                                 0.0275\n",
       "Hectares with trees between 5 and 25 years old        0.0240\n",
       "Head: age                                             0.0230\n",
       "Estimated income percentage from sale of other ...    0.0220\n",
       "Estimated income percentage from own small busi...    0.0215\n",
       "Land used to cultivate all crops (ha)                 0.0160\n",
       "Distance to the nearest local market                  0.0140\n",
       "Dependency ratio                                      0.0130\n",
       "Number of males 15-65                                 0.0120\n",
       "Share of cocoa land over all land                     0.0115\n",
       "Members per sleeping rooms                            0.0105\n",
       "Distance to your main farm                            0.0105\n",
       "Distance to the nearest input supplier?               0.0100\n",
       "All fallow land or land left for grazing (ha)         0.0095\n",
       "Cocoa sold (share of total)                           0.0090\n",
       "All land owned (ha)                                   0.0090"
      ]
     },
     "execution_count": 26,
     "metadata": {},
     "output_type": "execute_result"
    }
   ],
   "source": [
    "pd.DataFrame({'col_name': best_clf.feature_importances_}, index=data.columns).sort_values(by='col_name', ascending=False).head(n=20)"
   ]
  },
  {
   "cell_type": "markdown",
   "metadata": {},
   "source": [
    "Let's save the best model so far:"
   ]
  },
  {
   "cell_type": "code",
   "execution_count": 27,
   "metadata": {},
   "outputs": [],
   "source": [
    "pkl_filename = 'ada_best.pkl'\n",
    "pickle.dump(best_clf, open(pkl_filename, 'wb'))"
   ]
  },
  {
   "cell_type": "markdown",
   "metadata": {},
   "source": [
    "# 5 Grid Search, using stratified shuffle split"
   ]
  },
  {
   "cell_type": "markdown",
   "metadata": {},
   "source": [
    "Because this problem is highly skewed (few cases achieving the Living Income) it is likely the different splits of the cross validation have different shares of positive cases. To ensure this, I'll use stratified shuffle split"
   ]
  },
  {
   "cell_type": "code",
   "execution_count": 28,
   "metadata": {},
   "outputs": [
    {
     "name": "stdout",
     "output_type": "stream",
     "text": [
      "Fitting 5 folds for each of 18 candidates, totalling 90 fits\n"
     ]
    },
    {
     "name": "stderr",
     "output_type": "stream",
     "text": [
      "[Parallel(n_jobs=-1)]: Using backend LokyBackend with 8 concurrent workers.\n",
      "[Parallel(n_jobs=-1)]: Done  34 tasks      | elapsed:  1.4min\n",
      "[Parallel(n_jobs=-1)]: Done  90 out of  90 | elapsed:  5.1min finished\n"
     ]
    },
    {
     "name": "stdout",
     "output_type": "stream",
     "text": [
      "Unoptimized model\n",
      "------\n",
      "Accuracy score on testing data: 0.9420\n",
      "F-score on testing data: 0.7895\n",
      "\n",
      "Optimized Model\n",
      "------\n",
      "Final accuracy score on the testing data: 0.9623\n",
      "Final F-score on the testing data: 0.8597\n",
      "\n",
      "Optimized Model with stratification\n",
      "------\n",
      "Final accuracy score on the testing data: 0.9652\n",
      "Final F-score on the testing data: 0.8667\n"
     ]
    }
   ],
   "source": [
    "# Make sure it is stratified\n",
    "cv_strat = StratifiedShuffleSplit(n_splits=5,\n",
    "                                  test_size=0.2,\n",
    "                                  random_state=42)\n",
    "\n",
    "## Repeat previous part with the new CV\n",
    "grid_obj_strat = GridSearchCV(clf_B, parameters, scoring = scorer, verbose=1,\n",
    "                             cv = cv_strat, n_jobs = -1)\n",
    "\n",
    "# Fit the grid search object to the training data and find the optimal parameters using fit()\n",
    "grid_fit_strat = grid_obj_strat.fit(X_train, y_train)\n",
    "\n",
    "# Get the estimator\n",
    "best_clf_strat = grid_fit_strat.best_estimator_\n",
    "\n",
    "# Make predictions \n",
    "best_predictions_strat = best_clf_strat.predict(X_test)\n",
    "\n",
    "# metrics\n",
    "adaOptimStrat_accuracy = accuracy_score(y_test, best_predictions_strat)\n",
    "adaOptimStrat_fscore = fbeta_score(y_test, best_predictions_strat, beta = 0.5)\n",
    "\n",
    "# Report the before-and-afterscores\n",
    "print(\"Unoptimized model\\n------\")\n",
    "print(\"Accuracy score on testing data: {:.4f}\".format(adaBase_accuracy))\n",
    "print(\"F-score on testing data: {:.4f}\".format(adaBase_fscore))\n",
    "print(\"\\nOptimized Model\\n------\")\n",
    "print(\"Final accuracy score on the testing data: {:.4f}\".format(adaOptim_accuracy))\n",
    "print(\"Final F-score on the testing data: {:.4f}\".format(adaOptim_fscore))\n",
    "print(\"\\nOptimized Model with stratification\\n------\")\n",
    "print(\"Final accuracy score on the testing data: {:.4f}\".format(adaOptimStrat_accuracy))\n",
    "print(\"Final F-score on the testing data: {:.4f}\".format(adaOptimStrat_fscore))"
   ]
  },
  {
   "cell_type": "code",
   "execution_count": 29,
   "metadata": {},
   "outputs": [
    {
     "name": "stdout",
     "output_type": "stream",
     "text": [
      "Naive Predictor: [Accuracy score: 0.8511, F-score: 0.8772]\n",
      "ADAboost, base Predictor: [Accuracy score: 0.9420, F-score: 0.7895]\n",
      "ADAboost, Optimized Predictor: [Accuracy score: 0.9623, F-score: 0.8597]\n",
      "ADAboost, Optimized Stratified Predictor: [Accuracy score: 0.9652, F-score: 0.8667]\n"
     ]
    }
   ],
   "source": [
    "print(\"Naive Predictor: [Accuracy score: {:.4f}, F-score: {:.4f}]\".format(naive_accuracy, naive_fscore))\n",
    "print(\"ADAboost, base Predictor: [Accuracy score: {:.4f}, F-score: {:.4f}]\".format(adaBase_accuracy, adaBase_fscore))\n",
    "print(\"ADAboost, Optimized Predictor: [Accuracy score: {:.4f}, F-score: {:.4f}]\".format(adaOptim_accuracy, adaOptim_fscore))\n",
    "print(\"ADAboost, Optimized Stratified Predictor: [Accuracy score: {:.4f}, F-score: {:.4f}]\".format(adaOptimStrat_accuracy, adaOptimStrat_fscore))"
   ]
  },
  {
   "cell_type": "code",
   "execution_count": 30,
   "metadata": {},
   "outputs": [
    {
     "name": "stdout",
     "output_type": "stream",
     "text": [
      "AdaBoostClassifier(learning_rate=1.5, n_estimators=1500, random_state=42)\n",
      "Best score (Stratified): 0.8607369737664989\n"
     ]
    },
    {
     "data": {
      "text/html": [
       "<div>\n",
       "<style scoped>\n",
       "    .dataframe tbody tr th:only-of-type {\n",
       "        vertical-align: middle;\n",
       "    }\n",
       "\n",
       "    .dataframe tbody tr th {\n",
       "        vertical-align: top;\n",
       "    }\n",
       "\n",
       "    .dataframe thead th {\n",
       "        text-align: right;\n",
       "    }\n",
       "</style>\n",
       "<table border=\"1\" class=\"dataframe\">\n",
       "  <thead>\n",
       "    <tr style=\"text-align: right;\">\n",
       "      <th></th>\n",
       "      <th>learning_rate</th>\n",
       "      <th>n_estimators</th>\n",
       "      <th>Rank</th>\n",
       "      <th>F1 Score</th>\n",
       "    </tr>\n",
       "  </thead>\n",
       "  <tbody>\n",
       "    <tr>\n",
       "      <th>0</th>\n",
       "      <td>1.0</td>\n",
       "      <td>10</td>\n",
       "      <td>12</td>\n",
       "      <td>0.750027</td>\n",
       "    </tr>\n",
       "    <tr>\n",
       "      <th>1</th>\n",
       "      <td>1.0</td>\n",
       "      <td>50</td>\n",
       "      <td>2</td>\n",
       "      <td>0.859118</td>\n",
       "    </tr>\n",
       "    <tr>\n",
       "      <th>2</th>\n",
       "      <td>1.0</td>\n",
       "      <td>500</td>\n",
       "      <td>4</td>\n",
       "      <td>0.848211</td>\n",
       "    </tr>\n",
       "    <tr>\n",
       "      <th>3</th>\n",
       "      <td>1.0</td>\n",
       "      <td>1200</td>\n",
       "      <td>7</td>\n",
       "      <td>0.844772</td>\n",
       "    </tr>\n",
       "    <tr>\n",
       "      <th>4</th>\n",
       "      <td>1.0</td>\n",
       "      <td>1500</td>\n",
       "      <td>8</td>\n",
       "      <td>0.844740</td>\n",
       "    </tr>\n",
       "    <tr>\n",
       "      <th>5</th>\n",
       "      <td>1.0</td>\n",
       "      <td>2000</td>\n",
       "      <td>9</td>\n",
       "      <td>0.842668</td>\n",
       "    </tr>\n",
       "    <tr>\n",
       "      <th>6</th>\n",
       "      <td>1.5</td>\n",
       "      <td>10</td>\n",
       "      <td>11</td>\n",
       "      <td>0.761622</td>\n",
       "    </tr>\n",
       "    <tr>\n",
       "      <th>7</th>\n",
       "      <td>1.5</td>\n",
       "      <td>50</td>\n",
       "      <td>10</td>\n",
       "      <td>0.819073</td>\n",
       "    </tr>\n",
       "    <tr>\n",
       "      <th>8</th>\n",
       "      <td>1.5</td>\n",
       "      <td>500</td>\n",
       "      <td>6</td>\n",
       "      <td>0.846838</td>\n",
       "    </tr>\n",
       "    <tr>\n",
       "      <th>9</th>\n",
       "      <td>1.5</td>\n",
       "      <td>1200</td>\n",
       "      <td>5</td>\n",
       "      <td>0.848153</td>\n",
       "    </tr>\n",
       "    <tr>\n",
       "      <th>10</th>\n",
       "      <td>1.5</td>\n",
       "      <td>1500</td>\n",
       "      <td>1</td>\n",
       "      <td>0.860737</td>\n",
       "    </tr>\n",
       "    <tr>\n",
       "      <th>11</th>\n",
       "      <td>1.5</td>\n",
       "      <td>2000</td>\n",
       "      <td>3</td>\n",
       "      <td>0.854098</td>\n",
       "    </tr>\n",
       "    <tr>\n",
       "      <th>12</th>\n",
       "      <td>2.0</td>\n",
       "      <td>10</td>\n",
       "      <td>13</td>\n",
       "      <td>0.133901</td>\n",
       "    </tr>\n",
       "    <tr>\n",
       "      <th>13</th>\n",
       "      <td>2.0</td>\n",
       "      <td>50</td>\n",
       "      <td>13</td>\n",
       "      <td>0.133901</td>\n",
       "    </tr>\n",
       "    <tr>\n",
       "      <th>14</th>\n",
       "      <td>2.0</td>\n",
       "      <td>500</td>\n",
       "      <td>13</td>\n",
       "      <td>0.133901</td>\n",
       "    </tr>\n",
       "    <tr>\n",
       "      <th>15</th>\n",
       "      <td>2.0</td>\n",
       "      <td>1200</td>\n",
       "      <td>13</td>\n",
       "      <td>0.133901</td>\n",
       "    </tr>\n",
       "    <tr>\n",
       "      <th>16</th>\n",
       "      <td>2.0</td>\n",
       "      <td>1500</td>\n",
       "      <td>13</td>\n",
       "      <td>0.133901</td>\n",
       "    </tr>\n",
       "    <tr>\n",
       "      <th>17</th>\n",
       "      <td>2.0</td>\n",
       "      <td>2000</td>\n",
       "      <td>13</td>\n",
       "      <td>0.133901</td>\n",
       "    </tr>\n",
       "  </tbody>\n",
       "</table>\n",
       "</div>"
      ],
      "text/plain": [
       "    learning_rate  n_estimators  Rank  F1 Score\n",
       "0             1.0            10    12  0.750027\n",
       "1             1.0            50     2  0.859118\n",
       "2             1.0           500     4  0.848211\n",
       "3             1.0          1200     7  0.844772\n",
       "4             1.0          1500     8  0.844740\n",
       "5             1.0          2000     9  0.842668\n",
       "6             1.5            10    11  0.761622\n",
       "7             1.5            50    10  0.819073\n",
       "8             1.5           500     6  0.846838\n",
       "9             1.5          1200     5  0.848153\n",
       "10            1.5          1500     1  0.860737\n",
       "11            1.5          2000     3  0.854098\n",
       "12            2.0            10    13  0.133901\n",
       "13            2.0            50    13  0.133901\n",
       "14            2.0           500    13  0.133901\n",
       "15            2.0          1200    13  0.133901\n",
       "16            2.0          1500    13  0.133901\n",
       "17            2.0          2000    13  0.133901"
      ]
     },
     "execution_count": 30,
     "metadata": {},
     "output_type": "execute_result"
    }
   ],
   "source": [
    "print(best_clf_strat)\n",
    "print(\"Best score (Stratified):\", grid_fit_strat.best_score_)\n",
    "pd.concat([pd.DataFrame(grid_fit_strat.cv_results_[\"params\"]),\n",
    "           pd.DataFrame(grid_fit_strat.cv_results_[\"rank_test_score\"],\n",
    "                        columns=[\"Rank\"]),\n",
    "           pd.DataFrame(grid_fit_strat.cv_results_[\"mean_test_score\"], \n",
    "                        columns=[\"F1 Score\"])],axis=1)"
   ]
  },
  {
   "cell_type": "markdown",
   "metadata": {},
   "source": [
    "Let's look into more detail:"
   ]
  },
  {
   "cell_type": "code",
   "execution_count": 99,
   "metadata": {},
   "outputs": [
    {
     "data": {
      "text/plain": [
       "(array([0.98      , 0.86666667]),\n",
       " array([0.98      , 0.86666667]),\n",
       " array([0.98      , 0.86666667]),\n",
       " array([300,  45], dtype=int64))"
      ]
     },
     "execution_count": 99,
     "metadata": {},
     "output_type": "execute_result"
    }
   ],
   "source": [
    "precision_recall_fscore_support(y_test, best_predictions_strat, beta = 0.5)"
   ]
  },
  {
   "cell_type": "code",
   "execution_count": 32,
   "metadata": {},
   "outputs": [
    {
     "data": {
      "text/plain": [
       "array([[294,   6],\n",
       "       [  6,  39]], dtype=int64)"
      ]
     },
     "execution_count": 32,
     "metadata": {},
     "output_type": "execute_result"
    }
   ],
   "source": [
    "confusion_matrix(y_test, best_predictions_strat)"
   ]
  },
  {
   "cell_type": "code",
   "execution_count": 33,
   "metadata": {},
   "outputs": [
    {
     "data": {
      "image/png": "[encoded data removed]",
      "text/plain": [
       "<Figure size 432x288 with 2 Axes>"
      ]
     },
     "metadata": {
      "needs_background": "light"
     },
     "output_type": "display_data"
    }
   ],
   "source": [
    "plot_confusion_matrix(best_clf_strat, \n",
    "                      X_test, y_test,\n",
    "                      cmap=plt.cm.Blues,\n",
    "                      normalize = 'true');"
   ]
  },
  {
   "cell_type": "code",
   "execution_count": 34,
   "metadata": {},
   "outputs": [
    {
     "data": {
      "text/html": [
       "<div>\n",
       "<style scoped>\n",
       "    .dataframe tbody tr th:only-of-type {\n",
       "        vertical-align: middle;\n",
       "    }\n",
       "\n",
       "    .dataframe tbody tr th {\n",
       "        vertical-align: top;\n",
       "    }\n",
       "\n",
       "    .dataframe thead th {\n",
       "        text-align: right;\n",
       "    }\n",
       "</style>\n",
       "<table border=\"1\" class=\"dataframe\">\n",
       "  <thead>\n",
       "    <tr style=\"text-align: right;\">\n",
       "      <th></th>\n",
       "      <th>col_name</th>\n",
       "    </tr>\n",
       "  </thead>\n",
       "  <tbody>\n",
       "    <tr>\n",
       "      <th>Estimated income percentage from sale of cocoa</th>\n",
       "      <td>0.092667</td>\n",
       "    </tr>\n",
       "    <tr>\n",
       "      <th>Cocoa production (kg/ha)</th>\n",
       "      <td>0.090667</td>\n",
       "    </tr>\n",
       "    <tr>\n",
       "      <th>Cocoa production (kg)</th>\n",
       "      <td>0.059333</td>\n",
       "    </tr>\n",
       "    <tr>\n",
       "      <th>Productive land under cocoa (ha)</th>\n",
       "      <td>0.042000</td>\n",
       "    </tr>\n",
       "    <tr>\n",
       "      <th>Cocoa land owned (ha)</th>\n",
       "      <td>0.029333</td>\n",
       "    </tr>\n",
       "    <tr>\n",
       "      <th>Hectares with trees between 5 and 25 years old</th>\n",
       "      <td>0.022000</td>\n",
       "    </tr>\n",
       "    <tr>\n",
       "      <th>Estimated income percentage from own small business or trading</th>\n",
       "      <td>0.021333</td>\n",
       "    </tr>\n",
       "    <tr>\n",
       "      <th>Head: age</th>\n",
       "      <td>0.020667</td>\n",
       "    </tr>\n",
       "    <tr>\n",
       "      <th>Estimated income percentage from sale of other crops</th>\n",
       "      <td>0.020000</td>\n",
       "    </tr>\n",
       "    <tr>\n",
       "      <th>Land used to cultivate all crops (ha)</th>\n",
       "      <td>0.014667</td>\n",
       "    </tr>\n",
       "    <tr>\n",
       "      <th>Distance to the nearest local market</th>\n",
       "      <td>0.013333</td>\n",
       "    </tr>\n",
       "    <tr>\n",
       "      <th>Number of males 15-65</th>\n",
       "      <td>0.013333</td>\n",
       "    </tr>\n",
       "    <tr>\n",
       "      <th>Share of cocoa land over all land</th>\n",
       "      <td>0.012000</td>\n",
       "    </tr>\n",
       "    <tr>\n",
       "      <th>Dependency ratio</th>\n",
       "      <td>0.010667</td>\n",
       "    </tr>\n",
       "    <tr>\n",
       "      <th>Members per sleeping rooms</th>\n",
       "      <td>0.010667</td>\n",
       "    </tr>\n",
       "    <tr>\n",
       "      <th>Distance to your main farm</th>\n",
       "      <td>0.010667</td>\n",
       "    </tr>\n",
       "    <tr>\n",
       "      <th>Distance to the nearest tarred road (sealed road)</th>\n",
       "      <td>0.010000</td>\n",
       "    </tr>\n",
       "    <tr>\n",
       "      <th>Distance to the nearest input supplier?</th>\n",
       "      <td>0.010000</td>\n",
       "    </tr>\n",
       "    <tr>\n",
       "      <th>All land owned (ha)</th>\n",
       "      <td>0.010000</td>\n",
       "    </tr>\n",
       "    <tr>\n",
       "      <th>Cocoa sold (share of total)</th>\n",
       "      <td>0.009333</td>\n",
       "    </tr>\n",
       "  </tbody>\n",
       "</table>\n",
       "</div>"
      ],
      "text/plain": [
       "                                                    col_name\n",
       "Estimated income percentage from sale of cocoa      0.092667\n",
       "Cocoa production (kg/ha)                            0.090667\n",
       "Cocoa production (kg)                               0.059333\n",
       "Productive land under cocoa (ha)                    0.042000\n",
       "Cocoa land owned (ha)                               0.029333\n",
       "Hectares with trees between 5 and 25 years old      0.022000\n",
       "Estimated income percentage from own small busi...  0.021333\n",
       "Head: age                                           0.020667\n",
       "Estimated income percentage from sale of other ...  0.020000\n",
       "Land used to cultivate all crops (ha)               0.014667\n",
       "Distance to the nearest local market                0.013333\n",
       "Number of males 15-65                               0.013333\n",
       "Share of cocoa land over all land                   0.012000\n",
       "Dependency ratio                                    0.010667\n",
       "Members per sleeping rooms                          0.010667\n",
       "Distance to your main farm                          0.010667\n",
       "Distance to the nearest tarred road (sealed road)   0.010000\n",
       "Distance to the nearest input supplier?             0.010000\n",
       "All land owned (ha)                                 0.010000\n",
       "Cocoa sold (share of total)                         0.009333"
      ]
     },
     "execution_count": 34,
     "metadata": {},
     "output_type": "execute_result"
    }
   ],
   "source": [
    "pd.DataFrame({'col_name': best_clf_strat.feature_importances_}, index=data.columns).sort_values(by='col_name', ascending=False).head(n=20)"
   ]
  },
  {
   "cell_type": "code",
   "execution_count": 35,
   "metadata": {},
   "outputs": [
    {
     "data": {
      "image/png": "[encoded data removed]",
      "text/plain": [
       "<Figure size 648x360 with 1 Axes>"
      ]
     },
     "metadata": {
      "needs_background": "light"
     },
     "output_type": "display_data"
    }
   ],
   "source": [
    "vs.feature_plot(best_clf_strat.feature_importances_, X_train, y_train)"
   ]
  },
  {
   "cell_type": "markdown",
   "metadata": {},
   "source": [
    "Let's save the best model so far:"
   ]
  },
  {
   "cell_type": "code",
   "execution_count": 36,
   "metadata": {},
   "outputs": [],
   "source": [
    "pkl_filename = 'ada_best_strat.pkl'\n",
    "pickle.dump(best_clf_strat, open(pkl_filename, 'wb'))"
   ]
  },
  {
   "cell_type": "markdown",
   "metadata": {},
   "source": [
    "# 6 Search using TPOT"
   ]
  },
  {
   "cell_type": "markdown",
   "metadata": {},
   "source": [
    "I'll use TPOT in the Stratified Grid, to explore a more extensive space"
   ]
  },
  {
   "cell_type": "code",
   "execution_count": 37,
   "metadata": {},
   "outputs": [],
   "source": [
    "pipeline_optimizer = TPOTClassifier()"
   ]
  },
  {
   "cell_type": "code",
   "execution_count": 38,
   "metadata": {},
   "outputs": [],
   "source": [
    "pipeline_optimizer = TPOTClassifier(verbosity=2,\n",
    "                                     n_jobs = -1,\n",
    "                                    random_state = 32,\n",
    "                                   periodic_checkpoint_folder = \"intermediate_results\",\n",
    "                                    cv = cv_strat,\n",
    "                                    scoring = scorer\n",
    "                                   )"
   ]
  },
  {
   "cell_type": "code",
   "execution_count": 39,
   "metadata": {
    "scrolled": true
   },
   "outputs": [
    {
     "data": {
      "application/vnd.jupyter.widget-view+json": {
       "model_id": "",
       "version_major": 2,
       "version_minor": 0
      },
      "text/plain": [
       "HBox(children=(FloatProgress(value=0.0, description='Optimization Progress', max=10100.0, style=ProgressStyle(…"
      ]
     },
     "metadata": {},
     "output_type": "display_data"
    },
    {
     "name": "stdout",
     "output_type": "stream",
     "text": [
      "\n",
      "Generation 1 - Current best internal CV score: 0.8868528056383844\n",
      "Generation 2 - Current best internal CV score: 0.8868528056383844\n",
      "Generation 3 - Current best internal CV score: 0.8911435786435786\n",
      "Generation 4 - Current best internal CV score: 0.8911435786435786\n",
      "Generation 5 - Current best internal CV score: 0.8937494870883029\n",
      "Generation 6 - Current best internal CV score: 0.8937494870883029\n",
      "Generation 7 - Current best internal CV score: 0.8952281158163512\n",
      "Generation 8 - Current best internal CV score: 0.8952281158163512\n",
      "Generation 9 - Current best internal CV score: 0.8952281158163512\n",
      "Generation 10 - Current best internal CV score: 0.8952281158163512\n",
      "Generation 11 - Current best internal CV score: 0.8952281158163512\n",
      "Generation 12 - Current best internal CV score: 0.8952281158163512\n",
      "Generation 13 - Current best internal CV score: 0.9041110841620179\n",
      "Generation 14 - Current best internal CV score: 0.9094864449703157\n",
      "Generation 15 - Current best internal CV score: 0.9094864449703157\n",
      "Generation 16 - Current best internal CV score: 0.9094864449703157\n",
      "Generation 17 - Current best internal CV score: 0.9094864449703157\n",
      "Generation 18 - Current best internal CV score: 0.9131678049016758\n",
      "Generation 19 - Current best internal CV score: 0.9131678049016758\n",
      "Generation 20 - Current best internal CV score: 0.9131678049016758\n",
      "Generation 21 - Current best internal CV score: 0.9131678049016758\n",
      "Generation 22 - Current best internal CV score: 0.9131678049016758\n",
      "Generation 23 - Current best internal CV score: 0.9131678049016758\n",
      "Generation 24 - Current best internal CV score: 0.9131678049016758\n",
      "Generation 25 - Current best internal CV score: 0.9193708131208129\n",
      "Generation 26 - Current best internal CV score: 0.9193708131208129\n",
      "Generation 27 - Current best internal CV score: 0.9193708131208129\n",
      "Generation 28 - Current best internal CV score: 0.9193708131208129\n",
      "Generation 29 - Current best internal CV score: 0.9193708131208129\n",
      "Generation 30 - Current best internal CV score: 0.9193708131208129\n",
      "Generation 31 - Current best internal CV score: 0.9193708131208129\n",
      "Generation 32 - Current best internal CV score: 0.9193708131208129\n",
      "Generation 33 - Current best internal CV score: 0.9193708131208129\n",
      "Generation 34 - Current best internal CV score: 0.9193708131208129\n",
      "Generation 35 - Current best internal CV score: 0.9198092677931387\n",
      "Generation 36 - Current best internal CV score: 0.9198092677931387\n",
      "Generation 37 - Current best internal CV score: 0.9198092677931387\n",
      "Generation 38 - Current best internal CV score: 0.9198092677931387\n",
      "Generation 39 - Current best internal CV score: 0.9198092677931387\n",
      "Generation 40 - Current best internal CV score: 0.9198092677931387\n",
      "Generation 41 - Current best internal CV score: 0.9202999370338079\n",
      "Generation 42 - Current best internal CV score: 0.9202999370338079\n",
      "Generation 43 - Current best internal CV score: 0.9202999370338079\n",
      "Generation 44 - Current best internal CV score: 0.9202999370338079\n",
      "Generation 45 - Current best internal CV score: 0.9202999370338079\n",
      "Generation 46 - Current best internal CV score: 0.9202999370338079\n",
      "Generation 47 - Current best internal CV score: 0.9202999370338079\n",
      "Generation 48 - Current best internal CV score: 0.9202999370338079\n",
      "Generation 49 - Current best internal CV score: 0.9202999370338079\n",
      "Generation 50 - Current best internal CV score: 0.9202999370338079\n",
      "Generation 51 - Current best internal CV score: 0.9202999370338079\n",
      "Generation 52 - Current best internal CV score: 0.9202999370338079\n",
      "Generation 53 - Current best internal CV score: 0.9202999370338079\n",
      "Generation 54 - Current best internal CV score: 0.9202999370338079\n",
      "Generation 55 - Current best internal CV score: 0.9202999370338079\n",
      "Generation 56 - Current best internal CV score: 0.9202999370338079\n",
      "Generation 57 - Current best internal CV score: 0.9202999370338079\n",
      "Generation 58 - Current best internal CV score: 0.9202999370338079\n",
      "Generation 59 - Current best internal CV score: 0.9202999370338079\n",
      "Generation 60 - Current best internal CV score: 0.9202999370338079\n",
      "Generation 61 - Current best internal CV score: 0.9202999370338079\n",
      "Generation 62 - Current best internal CV score: 0.9202999370338079\n",
      "Generation 63 - Current best internal CV score: 0.9202999370338079\n",
      "Generation 64 - Current best internal CV score: 0.9202999370338079\n",
      "Generation 65 - Current best internal CV score: 0.9202999370338079\n",
      "Generation 66 - Current best internal CV score: 0.9202999370338079\n",
      "Generation 67 - Current best internal CV score: 0.921873765212581\n",
      "Generation 68 - Current best internal CV score: 0.921873765212581\n",
      "Generation 69 - Current best internal CV score: 0.921873765212581\n",
      "Generation 70 - Current best internal CV score: 0.921873765212581\n",
      "Generation 71 - Current best internal CV score: 0.921873765212581\n",
      "Generation 72 - Current best internal CV score: 0.921873765212581\n",
      "Generation 73 - Current best internal CV score: 0.921873765212581\n",
      "Generation 74 - Current best internal CV score: 0.921873765212581\n",
      "Generation 75 - Current best internal CV score: 0.921873765212581\n",
      "Generation 76 - Current best internal CV score: 0.921873765212581\n",
      "Generation 77 - Current best internal CV score: 0.921873765212581\n",
      "Generation 78 - Current best internal CV score: 0.921873765212581\n",
      "Generation 79 - Current best internal CV score: 0.921873765212581\n",
      "Generation 80 - Current best internal CV score: 0.921873765212581\n",
      "Generation 81 - Current best internal CV score: 0.921873765212581\n",
      "Generation 82 - Current best internal CV score: 0.921873765212581\n",
      "Generation 83 - Current best internal CV score: 0.921873765212581\n",
      "Generation 84 - Current best internal CV score: 0.921873765212581\n",
      "Generation 85 - Current best internal CV score: 0.921873765212581\n",
      "Generation 86 - Current best internal CV score: 0.921873765212581\n",
      "Generation 87 - Current best internal CV score: 0.921873765212581\n",
      "Generation 88 - Current best internal CV score: 0.921873765212581\n",
      "Generation 89 - Current best internal CV score: 0.921873765212581\n",
      "Generation 90 - Current best internal CV score: 0.921873765212581\n",
      "Generation 91 - Current best internal CV score: 0.921873765212581\n",
      "Generation 92 - Current best internal CV score: 0.921873765212581\n",
      "Generation 93 - Current best internal CV score: 0.921873765212581\n",
      "Generation 94 - Current best internal CV score: 0.921873765212581\n",
      "Generation 95 - Current best internal CV score: 0.921873765212581\n",
      "Generation 96 - Current best internal CV score: 0.921873765212581\n",
      "Generation 97 - Current best internal CV score: 0.921873765212581\n",
      "Generation 98 - Current best internal CV score: 0.921873765212581\n",
      "Generation 99 - Current best internal CV score: 0.921873765212581\n",
      "Generation 100 - Current best internal CV score: 0.921873765212581\n",
      "Best pipeline: GradientBoostingClassifier(SelectPercentile(RFE(input_matrix, criterion=gini, max_features=0.5, n_estimators=100, step=0.6500000000000001), percentile=87), learning_rate=0.1, max_depth=7, max_features=0.9000000000000001, min_samples_leaf=6, min_samples_split=17, n_estimators=100, subsample=0.9500000000000001)\n",
      "0.873015873015873\n"
     ]
    }
   ],
   "source": [
    "pipeline_optimizer.fit(X_train, y_train)\n",
    "print(pipeline_optimizer.score(X_test, y_test))\n",
    "pipeline_optimizer.export('tpot_exported_pipeline.py')"
   ]
  },
  {
   "cell_type": "code",
   "execution_count": 71,
   "metadata": {
    "scrolled": true
   },
   "outputs": [
    {
     "name": "stdout",
     "output_type": "stream",
     "text": [
      "0.873015873015873\n"
     ]
    }
   ],
   "source": [
    "print(pipeline_optimizer.score(X_test, y_test))"
   ]
  },
  {
   "cell_type": "code",
   "execution_count": 72,
   "metadata": {},
   "outputs": [],
   "source": [
    "tpot_pred = pipeline_optimizer.predict(X_test)"
   ]
  },
  {
   "cell_type": "code",
   "execution_count": 73,
   "metadata": {},
   "outputs": [],
   "source": [
    "# metrics\n",
    "tpot_accuracy = accuracy_score(y_test, tpot_pred)\n",
    "tpot_fscore = fbeta_score(y_test, tpot_pred, beta = 0.5)"
   ]
  },
  {
   "cell_type": "code",
   "execution_count": 74,
   "metadata": {},
   "outputs": [
    {
     "name": "stdout",
     "output_type": "stream",
     "text": [
      "Naive Predictor: [Accuracy score: 0.8511, F-score: 0.8772]\n",
      "ADAboost, base Predictor: [Accuracy score: 0.9420, F-score: 0.7895]\n",
      "ADAboost, Optimized Predictor: [Accuracy score: 0.9623, F-score: 0.8597]\n",
      "ADAboost, Optimized Stratified Predictor: [Accuracy score: 0.9652, F-score: 0.8667]\n",
      "TPOT Predictor: [Accuracy score: 0.9565, F-score: 0.8730]\n"
     ]
    }
   ],
   "source": [
    "print(\"Naive Predictor: [Accuracy score: {:.4f}, F-score: {:.4f}]\".format(naive_accuracy, naive_fscore))\n",
    "print(\"ADAboost, base Predictor: [Accuracy score: {:.4f}, F-score: {:.4f}]\".format(adaBase_accuracy, adaBase_fscore))\n",
    "print(\"ADAboost, Optimized Predictor: [Accuracy score: {:.4f}, F-score: {:.4f}]\".format(adaOptim_accuracy, adaOptim_fscore))\n",
    "print(\"ADAboost, Optimized Stratified Predictor: [Accuracy score: {:.4f}, F-score: {:.4f}]\".format(adaOptimStrat_accuracy, adaOptimStrat_fscore))\n",
    "print(\"TPOT Predictor: [Accuracy score: {:.4f}, F-score: {:.4f}]\".format(tpot_accuracy, tpot_fscore))"
   ]
  },
  {
   "cell_type": "code",
   "execution_count": 110,
   "metadata": {},
   "outputs": [
    {
     "data": {
      "text/plain": [
       "(array([0.96116505, 0.91666667]),\n",
       " array([0.99      , 0.73333333]),\n",
       " array([0.96679688, 0.87301587]),\n",
       " array([300,  45], dtype=int64))"
      ]
     },
     "execution_count": 110,
     "metadata": {},
     "output_type": "execute_result"
    }
   ],
   "source": [
    "precision_recall_fscore_support(y_test, tpot_pred, beta = 0.5)"
   ]
  },
  {
   "cell_type": "code",
   "execution_count": 76,
   "metadata": {},
   "outputs": [
    {
     "data": {
      "text/plain": [
       "array([[297,   3],\n",
       "       [ 12,  33]], dtype=int64)"
      ]
     },
     "execution_count": 76,
     "metadata": {},
     "output_type": "execute_result"
    }
   ],
   "source": [
    "confusion_matrix(y_test, tpot_pred)"
   ]
  },
  {
   "cell_type": "code",
   "execution_count": 77,
   "metadata": {},
   "outputs": [
    {
     "data": {
      "image/png": "[encoded data removed]",
      "text/plain": [
       "<Figure size 432x288 with 2 Axes>"
      ]
     },
     "metadata": {
      "needs_background": "light"
     },
     "output_type": "display_data"
    }
   ],
   "source": [
    "cm = confusion_matrix(y_test, tpot_pred, normalize = 'true')\n",
    "\n",
    "cm_display = ConfusionMatrixDisplay(cm).plot(cmap=plt.cm.Blues)"
   ]
  },
  {
   "cell_type": "markdown",
   "metadata": {},
   "source": [
    "Save best model"
   ]
  },
  {
   "cell_type": "code",
   "execution_count": 79,
   "metadata": {},
   "outputs": [],
   "source": [
    "TPOT_exported_pipeline = pipeline_optimizer.fitted_pipeline_"
   ]
  },
  {
   "cell_type": "code",
   "execution_count": 80,
   "metadata": {},
   "outputs": [],
   "source": [
    "tpot_results = TPOT_exported_pipeline.predict(X_test)"
   ]
  },
  {
   "cell_type": "code",
   "execution_count": 100,
   "metadata": {},
   "outputs": [
    {
     "data": {
      "text/plain": [
       "(array([0.96116505, 0.91666667]),\n",
       " array([0.99      , 0.73333333]),\n",
       " array([0.96679688, 0.87301587]),\n",
       " array([300,  45], dtype=int64))"
      ]
     },
     "execution_count": 100,
     "metadata": {},
     "output_type": "execute_result"
    }
   ],
   "source": [
    "precision_recall_fscore_support(y_test, tpot_results, beta = 0.5)"
   ]
  },
  {
   "cell_type": "code",
   "execution_count": 82,
   "metadata": {},
   "outputs": [],
   "source": [
    "pkl_filename = 'tpot_best_fitted.pkl'\n",
    "pickle.dump(TPOT_exported_pipeline, open(pkl_filename, 'wb'))"
   ]
  },
  {
   "cell_type": "markdown",
   "metadata": {},
   "source": [
    "# 7 Final model selection"
   ]
  },
  {
   "cell_type": "markdown",
   "metadata": {},
   "source": [
    "Let's compare the best models:"
   ]
  },
  {
   "cell_type": "markdown",
   "metadata": {},
   "source": [
    "|           | ADAboost        |         | TPOT            |         |\n",
    "|-----------|-----------------|---------|-----------------|---------|\n",
    "| accuracy  | 96.5%           |         | 95.6%           |         |\n",
    "|           | _Did not achieve_ | _Achieved_ | _Did not Achieve_ | _Achieved_ |\n",
    "| precision | 98%             | 87%     | 96%             | 92%     |\n",
    "| recall    | 98%             | 87%     | 99%             | 73%     |\n",
    "| f-score   | 98%             | 87%     | 96.6%           | 87.3%   |"
   ]
  },
  {
   "cell_type": "markdown",
   "metadata": {},
   "source": [
    "Because teh ADAboost is more balanced in precision and recall, I will prefer this model over the TPOT best pipeline"
   ]
  },
  {
   "cell_type": "code",
   "execution_count": 111,
   "metadata": {},
   "outputs": [],
   "source": [
    "best_model =  best_clf_strat"
   ]
  },
  {
   "cell_type": "code",
   "execution_count": 112,
   "metadata": {},
   "outputs": [],
   "source": [
    "pkl_filename = 'best_overall.pkl'\n",
    "pickle.dump(best_model, open(pkl_filename, 'wb'))"
   ]
  },
  {
   "cell_type": "code",
   "execution_count": null,
   "metadata": {},
   "outputs": [],
   "source": []
  }
 ],
 "metadata": {
  "kernelspec": {
   "display_name": "Python 3",
   "language": "python",
   "name": "python3"
  },
  "language_info": {
   "codemirror_mode": {
    "name": "ipython",
    "version": 3
   },
   "file_extension": ".py",
   "mimetype": "text/x-python",
   "name": "python",
   "nbconvert_exporter": "python",
   "pygments_lexer": "ipython3",
   "version": "3.7.9"
  }
 },
 "nbformat": 4,
 "nbformat_minor": 4
}
